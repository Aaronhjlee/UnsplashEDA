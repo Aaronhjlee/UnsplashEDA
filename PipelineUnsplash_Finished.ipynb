{
 "cells": [
  {
   "cell_type": "code",
   "execution_count": 1,
   "metadata": {},
   "outputs": [],
   "source": [
    "import json\n",
    "import pandas as pd\n",
    "import numpy as np\n",
    "import matplotlib.pyplot as plt\n",
    "from pandas.io.json import json_normalize\n",
    "import time\n",
    "import datetime as dt\n",
    "import glob"
   ]
  },
  {
   "cell_type": "code",
   "execution_count": 2,
   "metadata": {},
   "outputs": [],
   "source": [
    "'''\n",
    "Initialize data list and run to reset the list of data points\n",
    "'''\n",
    "data = []"
   ]
  },
  {
   "cell_type": "code",
   "execution_count": 3,
   "metadata": {},
   "outputs": [],
   "source": [
    "def curl_to_list(n):\n",
    "    '''\n",
    "    Pulls n number of random photos from unsplash\n",
    "    '''\n",
    "    for i in range(n):\n",
    "        test = !curl 'https://api.unsplash.com/photos/random/?client_id=79e1d6658e41505b393a2356f29a5f50f1c76f71ccadfe36dc8ad0dd1e9aab9b'\n",
    "        data.append(json.loads(test[1]))\n",
    "    return data\n",
    "\n",
    "def make_df(data):\n",
    "    '''\n",
    "    Transforms data to a dataframe\n",
    "    '''\n",
    "    df = json_normalize(data)\n",
    "    return df\n",
    "\n",
    "def make_csv(df):\n",
    "    '''\n",
    "    Takes a dataframe and makes a datetime unique .csv name, copied to 'raw'\n",
    "    '''\n",
    "    d = dt.datetime.today()\n",
    "    now = d.strftime('%d-%m-%Y.%H:%M')\n",
    "    df.to_csv(r'/Users/AaronLee/Documents/GalvanizeDSI/UnsplashEDA/raw/{}.csv'.format(now), index=False)\n",
    "    return '{}.csv created successfully'.format(now)\n",
    "\n",
    "def time_curl_csv(t, n):\n",
    "    '''\n",
    "    t = How many time per hour\n",
    "    n = How many requests to server\n",
    "    Combining Curl --> DataFrame --> CSV\n",
    "    '''\n",
    "    for i in range(t):\n",
    "        curl_to_list(n)\n",
    "        if i == (t-1):\n",
    "            print ('Hour {} has passed | {} photos have been appended'.format(i+1, (i+1)*n))\n",
    "            pass\n",
    "        else:\n",
    "            print ('Hour {} has passed | {} photos have been appended'.format(i+1, (i+1)*n))\n",
    "            time.sleep(3600)\n",
    "    df = make_df(data)\n",
    "    return make_csv(df)"
   ]
  },
  {
   "cell_type": "code",
   "execution_count": null,
   "metadata": {},
   "outputs": [
    {
     "name": "stdout",
     "output_type": "stream",
     "text": [
      "Hour 1 has passed | 50 photos have been appended\n"
     ]
    }
   ],
   "source": [
    "time_curl_csv(t=10, n=50)"
   ]
  },
  {
   "cell_type": "code",
   "execution_count": null,
   "metadata": {},
   "outputs": [],
   "source": [
    "make_df(data).describe()"
   ]
  },
  {
   "cell_type": "code",
   "execution_count": null,
   "metadata": {},
   "outputs": [],
   "source": [
    "#ETA: 7:08PM"
   ]
  },
  {
   "cell_type": "code",
   "execution_count": null,
   "metadata": {},
   "outputs": [],
   "source": []
  },
  {
   "cell_type": "code",
   "execution_count": null,
   "metadata": {},
   "outputs": [],
   "source": [
    "user_aaron = ['SEWvXEy0f3w', 'i5VXCAuIPI8', 'OrStOOxMLDg', 'Qo_WAibzJxE', '1CsReRMMviw', '_B-ebaFosvA', 'neO9osxLq-U', 'Wy2qMb6gNig', 'XrZU2XrzVlg', 'omr-U2MKm14', '3bBb4GAHZbo', 'hXcGZg3rAkU', 'EOwlliH80oA', 'p1Nph7ImCBM', '5pzmX_UmZbk', 'eQC7qC8uloM', 'qlsGMoKsd6Q', 'WrPmNpKQUUY', 'uiD5eo9NU1w', 'vIar-3iw7qA', 'bmxz37VWNDk', '9Au8tBGUF7g', 'o5l8tHpngGk', 'tkcVtjC6efo', 'vuM_W8S7VFE', 'Z9OTfVyeaTQ', 'QEhnnfajQNs', 'fryt2e2AArI', 'j5nzoz32_Bw', 'exDHM88g52w', '_pFvcEs_BPI']\n",
    "len(user_aaron)"
   ]
  },
  {
   "cell_type": "code",
   "execution_count": null,
   "metadata": {},
   "outputs": [],
   "source": [
    "data1 = []"
   ]
  },
  {
   "cell_type": "code",
   "execution_count": null,
   "metadata": {
    "scrolled": true
   },
   "outputs": [],
   "source": [
    "aaron_photos = !curl 'https://api.unsplash.com/photos/fryt2e2AArI/?client_id=79e1d6658e41505b393a2356f29a5f50f1c76f71ccadfe36dc8ad0dd1e9aab9b'\n",
    "parse_aaron = ''.join(aaron_photos)\n",
    "loaded_aaron = json.loads(parse_aaron)\n",
    "data1.append(loaded_aaron)\n",
    "data1\n",
    "json_normalize(data1)"
   ]
  },
  {
   "cell_type": "code",
   "execution_count": null,
   "metadata": {},
   "outputs": [],
   "source": [
    "user_df = json_normalize(data1)"
   ]
  },
  {
   "cell_type": "code",
   "execution_count": null,
   "metadata": {},
   "outputs": [],
   "source": [
    "make_csv(user_df)"
   ]
  },
  {
   "cell_type": "code",
   "execution_count": null,
   "metadata": {},
   "outputs": [],
   "source": []
  }
 ],
 "metadata": {
  "kernelspec": {
   "display_name": "Python 3",
   "language": "python",
   "name": "python3"
  },
  "language_info": {
   "codemirror_mode": {
    "name": "ipython",
    "version": 3
   },
   "file_extension": ".py",
   "mimetype": "text/x-python",
   "name": "python",
   "nbconvert_exporter": "python",
   "pygments_lexer": "ipython3",
   "version": "3.7.3"
  }
 },
 "nbformat": 4,
 "nbformat_minor": 2
}
