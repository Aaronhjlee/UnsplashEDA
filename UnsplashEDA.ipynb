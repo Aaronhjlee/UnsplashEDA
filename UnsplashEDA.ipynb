{
 "cells": [
  {
   "cell_type": "code",
   "execution_count": 1,
   "metadata": {},
   "outputs": [],
   "source": [
    "import json\n",
    "import pandas as pd\n",
    "import numpy as np\n",
    "import matplotlib.pyplot as plt\n",
    "plt.style.use('ggplot')\n",
    "from pandas.io.json import json_normalize\n",
    "import time\n",
    "import datetime as dt\n",
    "import glob\n",
    "import seaborn as sns\n",
    "from colour import Color\n",
    "import folium\n",
    "from folium import plugins\n",
    "from itertools import cycle, islice\n",
    "import scipy.stats as stats\n",
    "from scipy.stats import norm"
   ]
  },
  {
   "cell_type": "code",
   "execution_count": 2,
   "metadata": {},
   "outputs": [],
   "source": [
    "def all_csv_df():\n",
    "    '''\n",
    "    Loops through the .csv in /raw and concatonates them into 1 Dataframe\n",
    "    '''\n",
    "    path = r'/Users/AaronLee/Documents/GalvanizeDSI/UnsplashEDA/raw'\n",
    "    all_files = glob.glob(path + \"/*.csv\")\n",
    "\n",
    "    list_holder = []\n",
    "\n",
    "    for filename in all_files:\n",
    "        df = pd.read_csv(filename, index_col=None, header=0)\n",
    "        list_holder.append(df)\n",
    "\n",
    "    US_df = pd.concat(list_holder, axis=0, ignore_index=True)\n",
    "    return US_df"
   ]
  },
  {
   "cell_type": "code",
   "execution_count": 3,
   "metadata": {
    "scrolled": true
   },
   "outputs": [
    {
     "data": {
      "text/html": [
       "<div>\n",
       "<style scoped>\n",
       "    .dataframe tbody tr th:only-of-type {\n",
       "        vertical-align: middle;\n",
       "    }\n",
       "\n",
       "    .dataframe tbody tr th {\n",
       "        vertical-align: top;\n",
       "    }\n",
       "\n",
       "    .dataframe thead th {\n",
       "        text-align: right;\n",
       "    }\n",
       "</style>\n",
       "<table border=\"1\" class=\"dataframe\">\n",
       "  <thead>\n",
       "    <tr style=\"text-align: right;\">\n",
       "      <th></th>\n",
       "      <th>id</th>\n",
       "      <th>user.username</th>\n",
       "      <th>created_at</th>\n",
       "      <th>views</th>\n",
       "      <th>likes</th>\n",
       "      <th>downloads</th>\n",
       "      <th>exif.make</th>\n",
       "      <th>exif.aperture</th>\n",
       "      <th>location.country</th>\n",
       "      <th>user.total_photos</th>\n",
       "      <th>user.total_collections</th>\n",
       "      <th>user.instagram_username</th>\n",
       "      <th>user.twitter_username</th>\n",
       "      <th>color</th>\n",
       "      <th>dl_percent</th>\n",
       "      <th>like_percent</th>\n",
       "    </tr>\n",
       "  </thead>\n",
       "  <tbody>\n",
       "    <tr>\n",
       "      <th>0</th>\n",
       "      <td>orVg0K35hlw</td>\n",
       "      <td>anitaaustvika</td>\n",
       "      <td>2019-08-11T02:16:27-04:00</td>\n",
       "      <td>714716</td>\n",
       "      <td>118</td>\n",
       "      <td>1460</td>\n",
       "      <td>NIKON CORPORATION</td>\n",
       "      <td>2.8</td>\n",
       "      <td>NaN</td>\n",
       "      <td>336</td>\n",
       "      <td>0</td>\n",
       "      <td>rareflower_photography</td>\n",
       "      <td>NaN</td>\n",
       "      <td>#26150A</td>\n",
       "      <td>0.204277</td>\n",
       "      <td>0.016510</td>\n",
       "    </tr>\n",
       "    <tr>\n",
       "      <th>1</th>\n",
       "      <td>xvPXJy2su0g</td>\n",
       "      <td>schluditsch</td>\n",
       "      <td>2019-08-18T20:46:07-04:00</td>\n",
       "      <td>301662</td>\n",
       "      <td>29</td>\n",
       "      <td>567</td>\n",
       "      <td>Canon</td>\n",
       "      <td>4.5</td>\n",
       "      <td>NaN</td>\n",
       "      <td>32</td>\n",
       "      <td>9</td>\n",
       "      <td>schluditsch</td>\n",
       "      <td>NaN</td>\n",
       "      <td>#201D1A</td>\n",
       "      <td>0.187959</td>\n",
       "      <td>0.009613</td>\n",
       "    </tr>\n",
       "    <tr>\n",
       "      <th>2</th>\n",
       "      <td>QS-19iV-uC4</td>\n",
       "      <td>janellesoto_</td>\n",
       "      <td>2019-08-27T05:47:45-04:00</td>\n",
       "      <td>280267</td>\n",
       "      <td>66</td>\n",
       "      <td>1175</td>\n",
       "      <td>SONY</td>\n",
       "      <td>7.1</td>\n",
       "      <td>NaN</td>\n",
       "      <td>23</td>\n",
       "      <td>0</td>\n",
       "      <td>janellesoto_</td>\n",
       "      <td>NaN</td>\n",
       "      <td>#553E42</td>\n",
       "      <td>0.419243</td>\n",
       "      <td>0.023549</td>\n",
       "    </tr>\n",
       "    <tr>\n",
       "      <th>3</th>\n",
       "      <td>vP7gLpFYyq4</td>\n",
       "      <td>elijahsad</td>\n",
       "      <td>2019-08-06T05:46:58-04:00</td>\n",
       "      <td>525334</td>\n",
       "      <td>56</td>\n",
       "      <td>1309</td>\n",
       "      <td>SONY</td>\n",
       "      <td>1.8</td>\n",
       "      <td>NaN</td>\n",
       "      <td>97</td>\n",
       "      <td>0</td>\n",
       "      <td>elijah_tmn</td>\n",
       "      <td>Elijah_sad</td>\n",
       "      <td>#E9E7EC</td>\n",
       "      <td>0.249175</td>\n",
       "      <td>0.010660</td>\n",
       "    </tr>\n",
       "    <tr>\n",
       "      <th>4</th>\n",
       "      <td>wzEGhQJOEbA</td>\n",
       "      <td>mrthetrain</td>\n",
       "      <td>2019-08-22T16:15:50-04:00</td>\n",
       "      <td>219458</td>\n",
       "      <td>6</td>\n",
       "      <td>426</td>\n",
       "      <td>Canon</td>\n",
       "      <td>1.8</td>\n",
       "      <td>NaN</td>\n",
       "      <td>349</td>\n",
       "      <td>62</td>\n",
       "      <td>mr_theTrain</td>\n",
       "      <td>mrtheTrain</td>\n",
       "      <td>#E6E8D6</td>\n",
       "      <td>0.194115</td>\n",
       "      <td>0.002734</td>\n",
       "    </tr>\n",
       "    <tr>\n",
       "      <th>5</th>\n",
       "      <td>GJCWFap8gWE</td>\n",
       "      <td>byrdman85</td>\n",
       "      <td>2019-08-09T16:30:17-04:00</td>\n",
       "      <td>444788</td>\n",
       "      <td>16</td>\n",
       "      <td>661</td>\n",
       "      <td>NaN</td>\n",
       "      <td>NaN</td>\n",
       "      <td>NaN</td>\n",
       "      <td>98</td>\n",
       "      <td>1</td>\n",
       "      <td>Ash_photography_85</td>\n",
       "      <td>NaN</td>\n",
       "      <td>#F4F6F8</td>\n",
       "      <td>0.148610</td>\n",
       "      <td>0.003597</td>\n",
       "    </tr>\n",
       "    <tr>\n",
       "      <th>6</th>\n",
       "      <td>gs7biLqCDDQ</td>\n",
       "      <td>worldsbetweenlines</td>\n",
       "      <td>2019-08-12T01:38:36-04:00</td>\n",
       "      <td>421988</td>\n",
       "      <td>54</td>\n",
       "      <td>946</td>\n",
       "      <td>Canon</td>\n",
       "      <td>1.4</td>\n",
       "      <td>NaN</td>\n",
       "      <td>1188</td>\n",
       "      <td>27</td>\n",
       "      <td>shot.with.canon</td>\n",
       "      <td>LoveTheBicycle</td>\n",
       "      <td>#E9DCCF</td>\n",
       "      <td>0.224177</td>\n",
       "      <td>0.012797</td>\n",
       "    </tr>\n",
       "    <tr>\n",
       "      <th>7</th>\n",
       "      <td>yhz3Nus7zS0</td>\n",
       "      <td>ekrulila</td>\n",
       "      <td>2019-09-02T05:36:41-04:00</td>\n",
       "      <td>85628</td>\n",
       "      <td>19</td>\n",
       "      <td>294</td>\n",
       "      <td>NIKON CORPORATION</td>\n",
       "      <td>2.0</td>\n",
       "      <td>NaN</td>\n",
       "      <td>17</td>\n",
       "      <td>0</td>\n",
       "      <td>ekrulila</td>\n",
       "      <td>ekrulila</td>\n",
       "      <td>#151414</td>\n",
       "      <td>0.343346</td>\n",
       "      <td>0.022189</td>\n",
       "    </tr>\n",
       "    <tr>\n",
       "      <th>8</th>\n",
       "      <td>FESBgp8i9lY</td>\n",
       "      <td>hadleyjin_</td>\n",
       "      <td>2019-08-13T03:42:51-04:00</td>\n",
       "      <td>1124169</td>\n",
       "      <td>283</td>\n",
       "      <td>2753</td>\n",
       "      <td>Canon</td>\n",
       "      <td>4.0</td>\n",
       "      <td>NaN</td>\n",
       "      <td>128</td>\n",
       "      <td>0</td>\n",
       "      <td>hadleyjin</td>\n",
       "      <td>HadleyJin</td>\n",
       "      <td>#8C8893</td>\n",
       "      <td>0.244892</td>\n",
       "      <td>0.025174</td>\n",
       "    </tr>\n",
       "    <tr>\n",
       "      <th>9</th>\n",
       "      <td>dqcAlGZb4KM</td>\n",
       "      <td>ellienelie</td>\n",
       "      <td>2019-08-08T07:41:49-04:00</td>\n",
       "      <td>413072</td>\n",
       "      <td>43</td>\n",
       "      <td>765</td>\n",
       "      <td>Canon</td>\n",
       "      <td>2.8</td>\n",
       "      <td>NaN</td>\n",
       "      <td>94</td>\n",
       "      <td>1</td>\n",
       "      <td>ellieelien</td>\n",
       "      <td>NaN</td>\n",
       "      <td>#CBD0D1</td>\n",
       "      <td>0.185198</td>\n",
       "      <td>0.010410</td>\n",
       "    </tr>\n",
       "    <tr>\n",
       "      <th>10</th>\n",
       "      <td>Mb0aMn9X1JQ</td>\n",
       "      <td>kingtobie</td>\n",
       "      <td>2019-08-22T03:51:03-04:00</td>\n",
       "      <td>325429</td>\n",
       "      <td>6</td>\n",
       "      <td>413</td>\n",
       "      <td>Canon</td>\n",
       "      <td>5.6</td>\n",
       "      <td>NaN</td>\n",
       "      <td>48</td>\n",
       "      <td>0</td>\n",
       "      <td>kingtobie</td>\n",
       "      <td>kingtobie</td>\n",
       "      <td>#F5BF3F</td>\n",
       "      <td>0.126909</td>\n",
       "      <td>0.001844</td>\n",
       "    </tr>\n",
       "    <tr>\n",
       "      <th>11</th>\n",
       "      <td>0ENOxdnb47M</td>\n",
       "      <td>seantfr</td>\n",
       "      <td>2019-08-08T03:15:02-04:00</td>\n",
       "      <td>787356</td>\n",
       "      <td>51</td>\n",
       "      <td>1132</td>\n",
       "      <td>NaN</td>\n",
       "      <td>NaN</td>\n",
       "      <td>USA</td>\n",
       "      <td>8</td>\n",
       "      <td>0</td>\n",
       "      <td>seantfr</td>\n",
       "      <td>NaN</td>\n",
       "      <td>#060809</td>\n",
       "      <td>0.143772</td>\n",
       "      <td>0.006477</td>\n",
       "    </tr>\n",
       "    <tr>\n",
       "      <th>12</th>\n",
       "      <td>kwativq0a2I</td>\n",
       "      <td>anitaaustvika</td>\n",
       "      <td>2019-09-01T00:12:48-04:00</td>\n",
       "      <td>439770</td>\n",
       "      <td>97</td>\n",
       "      <td>1202</td>\n",
       "      <td>NIKON CORPORATION</td>\n",
       "      <td>7.1</td>\n",
       "      <td>NaN</td>\n",
       "      <td>336</td>\n",
       "      <td>0</td>\n",
       "      <td>rareflower_photography</td>\n",
       "      <td>NaN</td>\n",
       "      <td>#A8B6E2</td>\n",
       "      <td>0.273325</td>\n",
       "      <td>0.022057</td>\n",
       "    </tr>\n",
       "    <tr>\n",
       "      <th>13</th>\n",
       "      <td>zC-j-9-GW1A</td>\n",
       "      <td>cash_vick</td>\n",
       "      <td>2019-09-03T23:45:42-04:00</td>\n",
       "      <td>66394</td>\n",
       "      <td>9</td>\n",
       "      <td>83</td>\n",
       "      <td>Canon</td>\n",
       "      <td>NaN</td>\n",
       "      <td>NaN</td>\n",
       "      <td>24</td>\n",
       "      <td>0</td>\n",
       "      <td>cash_vick</td>\n",
       "      <td>NaN</td>\n",
       "      <td>#1C1712</td>\n",
       "      <td>0.125011</td>\n",
       "      <td>0.013555</td>\n",
       "    </tr>\n",
       "    <tr>\n",
       "      <th>14</th>\n",
       "      <td>YyvV9rF39lk</td>\n",
       "      <td>moh_ph</td>\n",
       "      <td>2019-09-03T09:24:05-04:00</td>\n",
       "      <td>162039</td>\n",
       "      <td>26</td>\n",
       "      <td>345</td>\n",
       "      <td>NIKON CORPORATION</td>\n",
       "      <td>1.8</td>\n",
       "      <td>NaN</td>\n",
       "      <td>151</td>\n",
       "      <td>4</td>\n",
       "      <td>moh_ph</td>\n",
       "      <td>moh_ph</td>\n",
       "      <td>#E3A366</td>\n",
       "      <td>0.212912</td>\n",
       "      <td>0.016046</td>\n",
       "    </tr>\n",
       "    <tr>\n",
       "      <th>15</th>\n",
       "      <td>-Ega2zbjoNo</td>\n",
       "      <td>lukasg_</td>\n",
       "      <td>2019-08-15T22:37:04-04:00</td>\n",
       "      <td>625680</td>\n",
       "      <td>41</td>\n",
       "      <td>1239</td>\n",
       "      <td>Canon</td>\n",
       "      <td>5.0</td>\n",
       "      <td>California</td>\n",
       "      <td>2</td>\n",
       "      <td>0</td>\n",
       "      <td>lukasgeck</td>\n",
       "      <td>NaN</td>\n",
       "      <td>#C8B098</td>\n",
       "      <td>0.198025</td>\n",
       "      <td>0.006553</td>\n",
       "    </tr>\n",
       "    <tr>\n",
       "      <th>16</th>\n",
       "      <td>Bo4aQ_Zq914</td>\n",
       "      <td>andreaedavis</td>\n",
       "      <td>2019-08-24T17:31:41-04:00</td>\n",
       "      <td>265340</td>\n",
       "      <td>31</td>\n",
       "      <td>609</td>\n",
       "      <td>NaN</td>\n",
       "      <td>NaN</td>\n",
       "      <td>NaN</td>\n",
       "      <td>48</td>\n",
       "      <td>0</td>\n",
       "      <td>andreaedavis</td>\n",
       "      <td>NaN</td>\n",
       "      <td>#060404</td>\n",
       "      <td>0.229517</td>\n",
       "      <td>0.011683</td>\n",
       "    </tr>\n",
       "    <tr>\n",
       "      <th>17</th>\n",
       "      <td>5Gr0ECn7o-o</td>\n",
       "      <td>screenpost</td>\n",
       "      <td>2019-08-26T00:26:21-04:00</td>\n",
       "      <td>192586</td>\n",
       "      <td>16</td>\n",
       "      <td>399</td>\n",
       "      <td>Canon</td>\n",
       "      <td>7.1</td>\n",
       "      <td>cambodia</td>\n",
       "      <td>93</td>\n",
       "      <td>1</td>\n",
       "      <td>screen_post/</td>\n",
       "      <td>NaN</td>\n",
       "      <td>#E34F43</td>\n",
       "      <td>0.207180</td>\n",
       "      <td>0.008308</td>\n",
       "    </tr>\n",
       "    <tr>\n",
       "      <th>18</th>\n",
       "      <td>F5hRdv6Vn4U</td>\n",
       "      <td>wpacifico</td>\n",
       "      <td>2019-08-13T17:49:32-04:00</td>\n",
       "      <td>353978</td>\n",
       "      <td>4</td>\n",
       "      <td>676</td>\n",
       "      <td>Sony</td>\n",
       "      <td>NaN</td>\n",
       "      <td>NaN</td>\n",
       "      <td>33</td>\n",
       "      <td>2</td>\n",
       "      <td>wesleypacifico</td>\n",
       "      <td>NaN</td>\n",
       "      <td>#0B0B0B</td>\n",
       "      <td>0.190972</td>\n",
       "      <td>0.001130</td>\n",
       "    </tr>\n",
       "    <tr>\n",
       "      <th>19</th>\n",
       "      <td>68Wp0gy0KPc</td>\n",
       "      <td>marcuschen1</td>\n",
       "      <td>2019-08-12T11:01:03-04:00</td>\n",
       "      <td>420241</td>\n",
       "      <td>14</td>\n",
       "      <td>477</td>\n",
       "      <td>FUJIFILM</td>\n",
       "      <td>1.0</td>\n",
       "      <td>NaN</td>\n",
       "      <td>60</td>\n",
       "      <td>5</td>\n",
       "      <td>marcus_chennnnn</td>\n",
       "      <td>NaN</td>\n",
       "      <td>#B2D4EE</td>\n",
       "      <td>0.113506</td>\n",
       "      <td>0.003331</td>\n",
       "    </tr>\n",
       "    <tr>\n",
       "      <th>20</th>\n",
       "      <td>UTuLctJo20A</td>\n",
       "      <td>karlbewick</td>\n",
       "      <td>2019-08-07T05:29:10-04:00</td>\n",
       "      <td>519741</td>\n",
       "      <td>86</td>\n",
       "      <td>1062</td>\n",
       "      <td>SONY</td>\n",
       "      <td>3.5</td>\n",
       "      <td>NaN</td>\n",
       "      <td>301</td>\n",
       "      <td>0</td>\n",
       "      <td>karlbewick_</td>\n",
       "      <td>KarlBewick</td>\n",
       "      <td>#F1F8F7</td>\n",
       "      <td>0.204333</td>\n",
       "      <td>0.016547</td>\n",
       "    </tr>\n",
       "    <tr>\n",
       "      <th>21</th>\n",
       "      <td>Bh8N4-yAJV4</td>\n",
       "      <td>leviventura_</td>\n",
       "      <td>2019-08-07T01:20:58-04:00</td>\n",
       "      <td>508440</td>\n",
       "      <td>49</td>\n",
       "      <td>817</td>\n",
       "      <td>NaN</td>\n",
       "      <td>NaN</td>\n",
       "      <td>NaN</td>\n",
       "      <td>89</td>\n",
       "      <td>0</td>\n",
       "      <td>https://www.instagram.com/leviventura.photo/</td>\n",
       "      <td>NaN</td>\n",
       "      <td>#15130E</td>\n",
       "      <td>0.160688</td>\n",
       "      <td>0.009637</td>\n",
       "    </tr>\n",
       "    <tr>\n",
       "      <th>22</th>\n",
       "      <td>-KRs6n4Owvc</td>\n",
       "      <td>christianbuehner</td>\n",
       "      <td>2019-08-08T22:11:15-04:00</td>\n",
       "      <td>440432</td>\n",
       "      <td>41</td>\n",
       "      <td>1410</td>\n",
       "      <td>FUJIFILM</td>\n",
       "      <td>22.0</td>\n",
       "      <td>NaN</td>\n",
       "      <td>160</td>\n",
       "      <td>0</td>\n",
       "      <td>https://www.instagram.com/christianbuehner/</td>\n",
       "      <td>NaN</td>\n",
       "      <td>#F1E2E6</td>\n",
       "      <td>0.320140</td>\n",
       "      <td>0.009309</td>\n",
       "    </tr>\n",
       "    <tr>\n",
       "      <th>23</th>\n",
       "      <td>mpMieSW9P_A</td>\n",
       "      <td>fdelgado</td>\n",
       "      <td>2019-09-04T01:45:35-04:00</td>\n",
       "      <td>70383</td>\n",
       "      <td>30</td>\n",
       "      <td>321</td>\n",
       "      <td>SONY</td>\n",
       "      <td>4.0</td>\n",
       "      <td>NaN</td>\n",
       "      <td>57</td>\n",
       "      <td>4</td>\n",
       "      <td>francistogram</td>\n",
       "      <td>NaN</td>\n",
       "      <td>#0A0D0F</td>\n",
       "      <td>0.456076</td>\n",
       "      <td>0.042624</td>\n",
       "    </tr>\n",
       "    <tr>\n",
       "      <th>24</th>\n",
       "      <td>_8r0-n9Nb0w</td>\n",
       "      <td>kennyzhang29</td>\n",
       "      <td>2019-08-12T04:49:46-04:00</td>\n",
       "      <td>425688</td>\n",
       "      <td>68</td>\n",
       "      <td>977</td>\n",
       "      <td>Canon</td>\n",
       "      <td>3.5</td>\n",
       "      <td>NaN</td>\n",
       "      <td>182</td>\n",
       "      <td>0</td>\n",
       "      <td>kennyzhang29</td>\n",
       "      <td>NaN</td>\n",
       "      <td>#EEDBB7</td>\n",
       "      <td>0.229511</td>\n",
       "      <td>0.015974</td>\n",
       "    </tr>\n",
       "    <tr>\n",
       "      <th>25</th>\n",
       "      <td>RGOoPD8g4xw</td>\n",
       "      <td>alexloup</td>\n",
       "      <td>2019-08-18T04:23:01-04:00</td>\n",
       "      <td>416267</td>\n",
       "      <td>45</td>\n",
       "      <td>638</td>\n",
       "      <td>Canon</td>\n",
       "      <td>1.4</td>\n",
       "      <td>NaN</td>\n",
       "      <td>73</td>\n",
       "      <td>5</td>\n",
       "      <td>alex_lvrs</td>\n",
       "      <td>NaN</td>\n",
       "      <td>#DEE0E4</td>\n",
       "      <td>0.153267</td>\n",
       "      <td>0.010810</td>\n",
       "    </tr>\n",
       "    <tr>\n",
       "      <th>26</th>\n",
       "      <td>SbdijptUPVg</td>\n",
       "      <td>drew_beamer</td>\n",
       "      <td>2019-09-01T12:45:20-04:00</td>\n",
       "      <td>128844</td>\n",
       "      <td>28</td>\n",
       "      <td>329</td>\n",
       "      <td>Canon</td>\n",
       "      <td>5.6</td>\n",
       "      <td>United States</td>\n",
       "      <td>100</td>\n",
       "      <td>0</td>\n",
       "      <td>beamomatic9000</td>\n",
       "      <td>beamomatic9000</td>\n",
       "      <td>#F6F6F6</td>\n",
       "      <td>0.255348</td>\n",
       "      <td>0.021732</td>\n",
       "    </tr>\n",
       "    <tr>\n",
       "      <th>27</th>\n",
       "      <td>yvPYR2_I6ns</td>\n",
       "      <td>fdelgado</td>\n",
       "      <td>2019-09-04T01:45:35-04:00</td>\n",
       "      <td>68422</td>\n",
       "      <td>12</td>\n",
       "      <td>165</td>\n",
       "      <td>SONY</td>\n",
       "      <td>4.0</td>\n",
       "      <td>NaN</td>\n",
       "      <td>57</td>\n",
       "      <td>4</td>\n",
       "      <td>francistogram</td>\n",
       "      <td>NaN</td>\n",
       "      <td>#0D151A</td>\n",
       "      <td>0.241151</td>\n",
       "      <td>0.017538</td>\n",
       "    </tr>\n",
       "    <tr>\n",
       "      <th>28</th>\n",
       "      <td>Ue1sGyjLUME</td>\n",
       "      <td>schluditsch</td>\n",
       "      <td>2019-08-07T11:08:48-04:00</td>\n",
       "      <td>798164</td>\n",
       "      <td>92</td>\n",
       "      <td>1797</td>\n",
       "      <td>Canon</td>\n",
       "      <td>4.0</td>\n",
       "      <td>NaN</td>\n",
       "      <td>32</td>\n",
       "      <td>9</td>\n",
       "      <td>schluditsch</td>\n",
       "      <td>NaN</td>\n",
       "      <td>#18100E</td>\n",
       "      <td>0.225142</td>\n",
       "      <td>0.011526</td>\n",
       "    </tr>\n",
       "    <tr>\n",
       "      <th>29</th>\n",
       "      <td>O5pJux38nNA</td>\n",
       "      <td>fearthelocals</td>\n",
       "      <td>2019-08-05T22:41:12-04:00</td>\n",
       "      <td>606976</td>\n",
       "      <td>26</td>\n",
       "      <td>1311</td>\n",
       "      <td>Canon</td>\n",
       "      <td>5.6</td>\n",
       "      <td>NaN</td>\n",
       "      <td>59</td>\n",
       "      <td>5</td>\n",
       "      <td>fearthelocals</td>\n",
       "      <td>ParkerCoffman</td>\n",
       "      <td>#E2DDD9</td>\n",
       "      <td>0.215989</td>\n",
       "      <td>0.004284</td>\n",
       "    </tr>\n",
       "    <tr>\n",
       "      <th>...</th>\n",
       "      <td>...</td>\n",
       "      <td>...</td>\n",
       "      <td>...</td>\n",
       "      <td>...</td>\n",
       "      <td>...</td>\n",
       "      <td>...</td>\n",
       "      <td>...</td>\n",
       "      <td>...</td>\n",
       "      <td>...</td>\n",
       "      <td>...</td>\n",
       "      <td>...</td>\n",
       "      <td>...</td>\n",
       "      <td>...</td>\n",
       "      <td>...</td>\n",
       "      <td>...</td>\n",
       "      <td>...</td>\n",
       "    </tr>\n",
       "    <tr>\n",
       "      <th>5636</th>\n",
       "      <td>MxnVzOgz4wk</td>\n",
       "      <td>zander222</td>\n",
       "      <td>2019-08-14T20:36:35-04:00</td>\n",
       "      <td>614906</td>\n",
       "      <td>74</td>\n",
       "      <td>917</td>\n",
       "      <td>NaN</td>\n",
       "      <td>NaN</td>\n",
       "      <td>NaN</td>\n",
       "      <td>12</td>\n",
       "      <td>1</td>\n",
       "      <td>capture_the_zander</td>\n",
       "      <td>NaN</td>\n",
       "      <td>#0E0D0C</td>\n",
       "      <td>0.149128</td>\n",
       "      <td>0.012034</td>\n",
       "    </tr>\n",
       "    <tr>\n",
       "      <th>5646</th>\n",
       "      <td>8m_izfof3j8</td>\n",
       "      <td>stereophototyp</td>\n",
       "      <td>2019-08-08T09:05:25-04:00</td>\n",
       "      <td>1018224</td>\n",
       "      <td>163</td>\n",
       "      <td>2868</td>\n",
       "      <td>Canon</td>\n",
       "      <td>5.6</td>\n",
       "      <td>NaN</td>\n",
       "      <td>117</td>\n",
       "      <td>7</td>\n",
       "      <td>stereo.phototyp</td>\n",
       "      <td>NaN</td>\n",
       "      <td>#92D0FC</td>\n",
       "      <td>0.281667</td>\n",
       "      <td>0.016008</td>\n",
       "    </tr>\n",
       "    <tr>\n",
       "      <th>5650</th>\n",
       "      <td>t2KcT5jB7DQ</td>\n",
       "      <td>3031n</td>\n",
       "      <td>2019-08-07T11:38:27-04:00</td>\n",
       "      <td>694085</td>\n",
       "      <td>88</td>\n",
       "      <td>1367</td>\n",
       "      <td>NaN</td>\n",
       "      <td>NaN</td>\n",
       "      <td>Macedonia</td>\n",
       "      <td>15</td>\n",
       "      <td>0</td>\n",
       "      <td>3031n</td>\n",
       "      <td>3031n1</td>\n",
       "      <td>#EB7F19</td>\n",
       "      <td>0.196950</td>\n",
       "      <td>0.012679</td>\n",
       "    </tr>\n",
       "    <tr>\n",
       "      <th>5660</th>\n",
       "      <td>usy6IrgHhSc</td>\n",
       "      <td>frogfather</td>\n",
       "      <td>2019-09-04T06:45:13-04:00</td>\n",
       "      <td>637321</td>\n",
       "      <td>133</td>\n",
       "      <td>1237</td>\n",
       "      <td>SONY</td>\n",
       "      <td>4.5</td>\n",
       "      <td>NaN</td>\n",
       "      <td>13</td>\n",
       "      <td>0</td>\n",
       "      <td>thore_95</td>\n",
       "      <td>NaN</td>\n",
       "      <td>#C9C2BA</td>\n",
       "      <td>0.194094</td>\n",
       "      <td>0.020869</td>\n",
       "    </tr>\n",
       "    <tr>\n",
       "      <th>5673</th>\n",
       "      <td>Fw38fNg7Kv8</td>\n",
       "      <td>neringa</td>\n",
       "      <td>2019-09-01T13:57:17-04:00</td>\n",
       "      <td>103266</td>\n",
       "      <td>33</td>\n",
       "      <td>378</td>\n",
       "      <td>SONY</td>\n",
       "      <td>1.6</td>\n",
       "      <td>NaN</td>\n",
       "      <td>33</td>\n",
       "      <td>4</td>\n",
       "      <td>NaN</td>\n",
       "      <td>NaN</td>\n",
       "      <td>#EFFAFA</td>\n",
       "      <td>0.366045</td>\n",
       "      <td>0.031956</td>\n",
       "    </tr>\n",
       "    <tr>\n",
       "      <th>5682</th>\n",
       "      <td>TQY-T3SYSTE</td>\n",
       "      <td>fotografierende</td>\n",
       "      <td>2019-08-11T15:22:11-04:00</td>\n",
       "      <td>607516</td>\n",
       "      <td>40</td>\n",
       "      <td>1046</td>\n",
       "      <td>NIKON CORPORATION</td>\n",
       "      <td>5.6</td>\n",
       "      <td>NaN</td>\n",
       "      <td>369</td>\n",
       "      <td>0</td>\n",
       "      <td>fotografierende</td>\n",
       "      <td>NaN</td>\n",
       "      <td>#CFD0D8</td>\n",
       "      <td>0.172177</td>\n",
       "      <td>0.006584</td>\n",
       "    </tr>\n",
       "    <tr>\n",
       "      <th>5685</th>\n",
       "      <td>D7ASqY_6N90</td>\n",
       "      <td>jayson_hinrichsen</td>\n",
       "      <td>2019-08-19T18:54:46-04:00</td>\n",
       "      <td>508176</td>\n",
       "      <td>70</td>\n",
       "      <td>1182</td>\n",
       "      <td>NIKON CORPORATION</td>\n",
       "      <td>1.8</td>\n",
       "      <td>NaN</td>\n",
       "      <td>102</td>\n",
       "      <td>0</td>\n",
       "      <td>jayson_hinrichsen</td>\n",
       "      <td>jay_hinrichsen</td>\n",
       "      <td>#FC0587</td>\n",
       "      <td>0.232597</td>\n",
       "      <td>0.013775</td>\n",
       "    </tr>\n",
       "    <tr>\n",
       "      <th>5701</th>\n",
       "      <td>uq5GcenoN_4</td>\n",
       "      <td>osiris_sight</td>\n",
       "      <td>2019-09-04T23:16:26-04:00</td>\n",
       "      <td>126186</td>\n",
       "      <td>8</td>\n",
       "      <td>269</td>\n",
       "      <td>NIKON CORPORATION</td>\n",
       "      <td>7.1</td>\n",
       "      <td>NaN</td>\n",
       "      <td>10</td>\n",
       "      <td>0</td>\n",
       "      <td>NaN</td>\n",
       "      <td>NaN</td>\n",
       "      <td>#D2D7DE</td>\n",
       "      <td>0.213177</td>\n",
       "      <td>0.006340</td>\n",
       "    </tr>\n",
       "    <tr>\n",
       "      <th>5710</th>\n",
       "      <td>HwtKKJjgTmc</td>\n",
       "      <td>concretelies_photography</td>\n",
       "      <td>2019-08-20T01:13:56-04:00</td>\n",
       "      <td>516757</td>\n",
       "      <td>45</td>\n",
       "      <td>1204</td>\n",
       "      <td>Canon</td>\n",
       "      <td>2.0</td>\n",
       "      <td>NaN</td>\n",
       "      <td>50</td>\n",
       "      <td>0</td>\n",
       "      <td>concretelies_photography</td>\n",
       "      <td>NaN</td>\n",
       "      <td>#2C1A1A</td>\n",
       "      <td>0.232992</td>\n",
       "      <td>0.008708</td>\n",
       "    </tr>\n",
       "    <tr>\n",
       "      <th>5713</th>\n",
       "      <td>Nhm-3WHitdw</td>\n",
       "      <td>dbrandaof</td>\n",
       "      <td>2019-08-07T18:24:13-04:00</td>\n",
       "      <td>761116</td>\n",
       "      <td>58</td>\n",
       "      <td>1256</td>\n",
       "      <td>SONY</td>\n",
       "      <td>5.0</td>\n",
       "      <td>NaN</td>\n",
       "      <td>35</td>\n",
       "      <td>3</td>\n",
       "      <td>diogobrandao13</td>\n",
       "      <td>NaN</td>\n",
       "      <td>#2C1A16</td>\n",
       "      <td>0.165021</td>\n",
       "      <td>0.007620</td>\n",
       "    </tr>\n",
       "    <tr>\n",
       "      <th>5717</th>\n",
       "      <td>BVRCpQ7Vnz0</td>\n",
       "      <td>sharkovski</td>\n",
       "      <td>2019-08-07T11:51:18-04:00</td>\n",
       "      <td>684949</td>\n",
       "      <td>31</td>\n",
       "      <td>1183</td>\n",
       "      <td>Xiaomi</td>\n",
       "      <td>1.8</td>\n",
       "      <td>Hong Kong</td>\n",
       "      <td>149</td>\n",
       "      <td>18</td>\n",
       "      <td>ksharkovski</td>\n",
       "      <td>NaN</td>\n",
       "      <td>#0B141C</td>\n",
       "      <td>0.172714</td>\n",
       "      <td>0.004526</td>\n",
       "    </tr>\n",
       "    <tr>\n",
       "      <th>5719</th>\n",
       "      <td>MZT25Vo4bwg</td>\n",
       "      <td>sidem0n</td>\n",
       "      <td>2019-08-07T08:43:06-04:00</td>\n",
       "      <td>633582</td>\n",
       "      <td>78</td>\n",
       "      <td>1302</td>\n",
       "      <td>SONY</td>\n",
       "      <td>8.0</td>\n",
       "      <td>NaN</td>\n",
       "      <td>21</td>\n",
       "      <td>0</td>\n",
       "      <td>NaN</td>\n",
       "      <td>NaN</td>\n",
       "      <td>#1A1817</td>\n",
       "      <td>0.205498</td>\n",
       "      <td>0.012311</td>\n",
       "    </tr>\n",
       "    <tr>\n",
       "      <th>5729</th>\n",
       "      <td>wn2BLotE8oY</td>\n",
       "      <td>randominstitute</td>\n",
       "      <td>2019-08-16T05:20:42-04:00</td>\n",
       "      <td>573408</td>\n",
       "      <td>47</td>\n",
       "      <td>852</td>\n",
       "      <td>SONY</td>\n",
       "      <td>1.4</td>\n",
       "      <td>NaN</td>\n",
       "      <td>104</td>\n",
       "      <td>2</td>\n",
       "      <td>curator</td>\n",
       "      <td>randominstitute</td>\n",
       "      <td>#F2E8E8</td>\n",
       "      <td>0.148585</td>\n",
       "      <td>0.008197</td>\n",
       "    </tr>\n",
       "    <tr>\n",
       "      <th>5734</th>\n",
       "      <td>Metk5Jtg0A8</td>\n",
       "      <td>dav_billings</td>\n",
       "      <td>2019-08-07T04:10:07-04:00</td>\n",
       "      <td>529229</td>\n",
       "      <td>73</td>\n",
       "      <td>1080</td>\n",
       "      <td>SONY</td>\n",
       "      <td>1.7</td>\n",
       "      <td>NaN</td>\n",
       "      <td>63</td>\n",
       "      <td>0</td>\n",
       "      <td>dav_billings</td>\n",
       "      <td>NaN</td>\n",
       "      <td>#EAC7B5</td>\n",
       "      <td>0.204070</td>\n",
       "      <td>0.013794</td>\n",
       "    </tr>\n",
       "    <tr>\n",
       "      <th>5753</th>\n",
       "      <td>0FZQeLqah6o</td>\n",
       "      <td>samuelsngx</td>\n",
       "      <td>2019-08-07T05:09:16-04:00</td>\n",
       "      <td>533853</td>\n",
       "      <td>24</td>\n",
       "      <td>1173</td>\n",
       "      <td>Canon</td>\n",
       "      <td>4.0</td>\n",
       "      <td>NaN</td>\n",
       "      <td>197</td>\n",
       "      <td>1</td>\n",
       "      <td>samuelsng.p</td>\n",
       "      <td>NaN</td>\n",
       "      <td>#EBC5BB</td>\n",
       "      <td>0.219723</td>\n",
       "      <td>0.004496</td>\n",
       "    </tr>\n",
       "    <tr>\n",
       "      <th>5760</th>\n",
       "      <td>2LlSzJKeYdU</td>\n",
       "      <td>albertohlfrias</td>\n",
       "      <td>2019-08-10T10:26:51-04:00</td>\n",
       "      <td>670839</td>\n",
       "      <td>19</td>\n",
       "      <td>1037</td>\n",
       "      <td>SONY</td>\n",
       "      <td>4.0</td>\n",
       "      <td>Spain</td>\n",
       "      <td>54</td>\n",
       "      <td>4</td>\n",
       "      <td>albertohlfrias</td>\n",
       "      <td>albertohlfrias</td>\n",
       "      <td>#F1F0EF</td>\n",
       "      <td>0.154583</td>\n",
       "      <td>0.002832</td>\n",
       "    </tr>\n",
       "    <tr>\n",
       "      <th>5761</th>\n",
       "      <td>IujGuVaGW8g</td>\n",
       "      <td>sharkovski</td>\n",
       "      <td>2019-08-07T11:22:22-04:00</td>\n",
       "      <td>675877</td>\n",
       "      <td>36</td>\n",
       "      <td>1555</td>\n",
       "      <td>Xiaomi</td>\n",
       "      <td>2.4</td>\n",
       "      <td>Hong Kong</td>\n",
       "      <td>149</td>\n",
       "      <td>18</td>\n",
       "      <td>ksharkovski</td>\n",
       "      <td>NaN</td>\n",
       "      <td>#0B0A0B</td>\n",
       "      <td>0.230071</td>\n",
       "      <td>0.005326</td>\n",
       "    </tr>\n",
       "    <tr>\n",
       "      <th>5763</th>\n",
       "      <td>-FWU2UKRXZo</td>\n",
       "      <td>eberhardgross</td>\n",
       "      <td>2019-08-27T04:01:54-04:00</td>\n",
       "      <td>276379</td>\n",
       "      <td>96</td>\n",
       "      <td>979</td>\n",
       "      <td>Canon</td>\n",
       "      <td>2.5</td>\n",
       "      <td>NaN</td>\n",
       "      <td>1010</td>\n",
       "      <td>5</td>\n",
       "      <td>eberhard_grossgasteiger</td>\n",
       "      <td>eberhardgross</td>\n",
       "      <td>#1E262E</td>\n",
       "      <td>0.354224</td>\n",
       "      <td>0.034735</td>\n",
       "    </tr>\n",
       "    <tr>\n",
       "      <th>5764</th>\n",
       "      <td>MtByj17UDjU</td>\n",
       "      <td>joshhild</td>\n",
       "      <td>2019-09-03T10:50:39-04:00</td>\n",
       "      <td>178046</td>\n",
       "      <td>48</td>\n",
       "      <td>517</td>\n",
       "      <td>Canon</td>\n",
       "      <td>2.2</td>\n",
       "      <td>NaN</td>\n",
       "      <td>135</td>\n",
       "      <td>0</td>\n",
       "      <td>joshhild</td>\n",
       "      <td>NaN</td>\n",
       "      <td>#FC922E</td>\n",
       "      <td>0.290374</td>\n",
       "      <td>0.026959</td>\n",
       "    </tr>\n",
       "    <tr>\n",
       "      <th>5767</th>\n",
       "      <td>P559qKtbcno</td>\n",
       "      <td>anna_tukhfatullina</td>\n",
       "      <td>2019-08-10T04:54:11-04:00</td>\n",
       "      <td>629990</td>\n",
       "      <td>92</td>\n",
       "      <td>1467</td>\n",
       "      <td>Canon</td>\n",
       "      <td>5.0</td>\n",
       "      <td>NaN</td>\n",
       "      <td>30</td>\n",
       "      <td>0</td>\n",
       "      <td>anna_tukhfatullina</td>\n",
       "      <td>NaN</td>\n",
       "      <td>#FDC379</td>\n",
       "      <td>0.232861</td>\n",
       "      <td>0.014603</td>\n",
       "    </tr>\n",
       "    <tr>\n",
       "      <th>5777</th>\n",
       "      <td>S9xK7jc416M</td>\n",
       "      <td>martinkatler</td>\n",
       "      <td>2019-08-23T08:31:25-04:00</td>\n",
       "      <td>297781</td>\n",
       "      <td>94</td>\n",
       "      <td>1065</td>\n",
       "      <td>Canon</td>\n",
       "      <td>1.4</td>\n",
       "      <td>NaN</td>\n",
       "      <td>76</td>\n",
       "      <td>0</td>\n",
       "      <td>martin_katler</td>\n",
       "      <td>NaN</td>\n",
       "      <td>#181E22</td>\n",
       "      <td>0.357645</td>\n",
       "      <td>0.031567</td>\n",
       "    </tr>\n",
       "    <tr>\n",
       "      <th>5779</th>\n",
       "      <td>-nVhdi8cxSk</td>\n",
       "      <td>koushikc</td>\n",
       "      <td>2019-09-02T01:22:46-04:00</td>\n",
       "      <td>94785</td>\n",
       "      <td>9</td>\n",
       "      <td>293</td>\n",
       "      <td>NIKON CORPORATION</td>\n",
       "      <td>1.8</td>\n",
       "      <td>NaN</td>\n",
       "      <td>103</td>\n",
       "      <td>0</td>\n",
       "      <td>Chkoushik</td>\n",
       "      <td>KoushikC19</td>\n",
       "      <td>#ED954D</td>\n",
       "      <td>0.309121</td>\n",
       "      <td>0.009495</td>\n",
       "    </tr>\n",
       "    <tr>\n",
       "      <th>5784</th>\n",
       "      <td>SjZS6FpnOXg</td>\n",
       "      <td>mateim</td>\n",
       "      <td>2019-08-07T03:05:26-04:00</td>\n",
       "      <td>481673</td>\n",
       "      <td>15</td>\n",
       "      <td>1110</td>\n",
       "      <td>SONY</td>\n",
       "      <td>8.0</td>\n",
       "      <td>NaN</td>\n",
       "      <td>59</td>\n",
       "      <td>0</td>\n",
       "      <td>matei.emm</td>\n",
       "      <td>NaN</td>\n",
       "      <td>#F3EEEE</td>\n",
       "      <td>0.230447</td>\n",
       "      <td>0.003114</td>\n",
       "    </tr>\n",
       "    <tr>\n",
       "      <th>5785</th>\n",
       "      <td>TTzLZeYprm8</td>\n",
       "      <td>ceveoh</td>\n",
       "      <td>2019-08-18T17:51:21-04:00</td>\n",
       "      <td>349298</td>\n",
       "      <td>11</td>\n",
       "      <td>794</td>\n",
       "      <td>NIKON CORPORATION</td>\n",
       "      <td>1.8</td>\n",
       "      <td>NaN</td>\n",
       "      <td>62</td>\n",
       "      <td>15</td>\n",
       "      <td>ceveoh</td>\n",
       "      <td>NaN</td>\n",
       "      <td>#D4D7E1</td>\n",
       "      <td>0.227313</td>\n",
       "      <td>0.003149</td>\n",
       "    </tr>\n",
       "    <tr>\n",
       "      <th>5791</th>\n",
       "      <td>Mz6dZqGuvR8</td>\n",
       "      <td>guilllaumeg</td>\n",
       "      <td>2019-08-17T14:17:47-04:00</td>\n",
       "      <td>418019</td>\n",
       "      <td>33</td>\n",
       "      <td>1154</td>\n",
       "      <td>SONY</td>\n",
       "      <td>5.6</td>\n",
       "      <td>NaN</td>\n",
       "      <td>22</td>\n",
       "      <td>0</td>\n",
       "      <td>guytouu</td>\n",
       "      <td>snouflebox</td>\n",
       "      <td>#FECC72</td>\n",
       "      <td>0.276064</td>\n",
       "      <td>0.007894</td>\n",
       "    </tr>\n",
       "    <tr>\n",
       "      <th>5795</th>\n",
       "      <td>M3-kUGFYyUE</td>\n",
       "      <td>kylry</td>\n",
       "      <td>2019-08-20T22:11:29-04:00</td>\n",
       "      <td>325323</td>\n",
       "      <td>23</td>\n",
       "      <td>988</td>\n",
       "      <td>NORITSU KOKI</td>\n",
       "      <td>NaN</td>\n",
       "      <td>NaN</td>\n",
       "      <td>162</td>\n",
       "      <td>6</td>\n",
       "      <td>kylrya</td>\n",
       "      <td>kylry</td>\n",
       "      <td>#F9BCC2</td>\n",
       "      <td>0.303698</td>\n",
       "      <td>0.007070</td>\n",
       "    </tr>\n",
       "    <tr>\n",
       "      <th>5811</th>\n",
       "      <td>KoKRAsicm08</td>\n",
       "      <td>ceveoh</td>\n",
       "      <td>2019-08-18T22:58:46-04:00</td>\n",
       "      <td>357625</td>\n",
       "      <td>42</td>\n",
       "      <td>927</td>\n",
       "      <td>NIKON CORPORATION</td>\n",
       "      <td>1.8</td>\n",
       "      <td>NaN</td>\n",
       "      <td>62</td>\n",
       "      <td>15</td>\n",
       "      <td>ceveoh</td>\n",
       "      <td>NaN</td>\n",
       "      <td>#FCFAFB</td>\n",
       "      <td>0.259210</td>\n",
       "      <td>0.011744</td>\n",
       "    </tr>\n",
       "    <tr>\n",
       "      <th>5813</th>\n",
       "      <td>LmNwngC-nyg</td>\n",
       "      <td>gersonrepreza</td>\n",
       "      <td>2019-08-08T13:50:54-04:00</td>\n",
       "      <td>464380</td>\n",
       "      <td>69</td>\n",
       "      <td>870</td>\n",
       "      <td>SONY</td>\n",
       "      <td>2.0</td>\n",
       "      <td>NaN</td>\n",
       "      <td>87</td>\n",
       "      <td>0</td>\n",
       "      <td>gersonrepreza</td>\n",
       "      <td>NaN</td>\n",
       "      <td>#EFB392</td>\n",
       "      <td>0.187347</td>\n",
       "      <td>0.014859</td>\n",
       "    </tr>\n",
       "    <tr>\n",
       "      <th>5828</th>\n",
       "      <td>fIkH_N_mxzc</td>\n",
       "      <td>jontyson</td>\n",
       "      <td>2019-08-07T15:36:47-04:00</td>\n",
       "      <td>740720</td>\n",
       "      <td>75</td>\n",
       "      <td>1381</td>\n",
       "      <td>Apple</td>\n",
       "      <td>1.8</td>\n",
       "      <td>NaN</td>\n",
       "      <td>1820</td>\n",
       "      <td>0</td>\n",
       "      <td>jontyson</td>\n",
       "      <td>jontyson</td>\n",
       "      <td>#06080B</td>\n",
       "      <td>0.186440</td>\n",
       "      <td>0.010125</td>\n",
       "    </tr>\n",
       "    <tr>\n",
       "      <th>5829</th>\n",
       "      <td>gjtz5cKGEEw</td>\n",
       "      <td>introspectivedsgn</td>\n",
       "      <td>2019-08-14T19:45:27-04:00</td>\n",
       "      <td>670125</td>\n",
       "      <td>117</td>\n",
       "      <td>1793</td>\n",
       "      <td>Canon</td>\n",
       "      <td>2.5</td>\n",
       "      <td>NaN</td>\n",
       "      <td>1132</td>\n",
       "      <td>3</td>\n",
       "      <td>recycled_hippie</td>\n",
       "      <td>NaN</td>\n",
       "      <td>#FDEBE4</td>\n",
       "      <td>0.267562</td>\n",
       "      <td>0.017459</td>\n",
       "    </tr>\n",
       "  </tbody>\n",
       "</table>\n",
       "<p>2432 rows × 16 columns</p>\n",
       "</div>"
      ],
      "text/plain": [
       "               id             user.username                 created_at  \\\n",
       "0     orVg0K35hlw             anitaaustvika  2019-08-11T02:16:27-04:00   \n",
       "1     xvPXJy2su0g               schluditsch  2019-08-18T20:46:07-04:00   \n",
       "2     QS-19iV-uC4              janellesoto_  2019-08-27T05:47:45-04:00   \n",
       "3     vP7gLpFYyq4                 elijahsad  2019-08-06T05:46:58-04:00   \n",
       "4     wzEGhQJOEbA                mrthetrain  2019-08-22T16:15:50-04:00   \n",
       "5     GJCWFap8gWE                 byrdman85  2019-08-09T16:30:17-04:00   \n",
       "6     gs7biLqCDDQ        worldsbetweenlines  2019-08-12T01:38:36-04:00   \n",
       "7     yhz3Nus7zS0                  ekrulila  2019-09-02T05:36:41-04:00   \n",
       "8     FESBgp8i9lY                hadleyjin_  2019-08-13T03:42:51-04:00   \n",
       "9     dqcAlGZb4KM                ellienelie  2019-08-08T07:41:49-04:00   \n",
       "10    Mb0aMn9X1JQ                 kingtobie  2019-08-22T03:51:03-04:00   \n",
       "11    0ENOxdnb47M                   seantfr  2019-08-08T03:15:02-04:00   \n",
       "12    kwativq0a2I             anitaaustvika  2019-09-01T00:12:48-04:00   \n",
       "13    zC-j-9-GW1A                 cash_vick  2019-09-03T23:45:42-04:00   \n",
       "14    YyvV9rF39lk                    moh_ph  2019-09-03T09:24:05-04:00   \n",
       "15    -Ega2zbjoNo                   lukasg_  2019-08-15T22:37:04-04:00   \n",
       "16    Bo4aQ_Zq914              andreaedavis  2019-08-24T17:31:41-04:00   \n",
       "17    5Gr0ECn7o-o                screenpost  2019-08-26T00:26:21-04:00   \n",
       "18    F5hRdv6Vn4U                 wpacifico  2019-08-13T17:49:32-04:00   \n",
       "19    68Wp0gy0KPc               marcuschen1  2019-08-12T11:01:03-04:00   \n",
       "20    UTuLctJo20A                karlbewick  2019-08-07T05:29:10-04:00   \n",
       "21    Bh8N4-yAJV4              leviventura_  2019-08-07T01:20:58-04:00   \n",
       "22    -KRs6n4Owvc          christianbuehner  2019-08-08T22:11:15-04:00   \n",
       "23    mpMieSW9P_A                  fdelgado  2019-09-04T01:45:35-04:00   \n",
       "24    _8r0-n9Nb0w              kennyzhang29  2019-08-12T04:49:46-04:00   \n",
       "25    RGOoPD8g4xw                  alexloup  2019-08-18T04:23:01-04:00   \n",
       "26    SbdijptUPVg               drew_beamer  2019-09-01T12:45:20-04:00   \n",
       "27    yvPYR2_I6ns                  fdelgado  2019-09-04T01:45:35-04:00   \n",
       "28    Ue1sGyjLUME               schluditsch  2019-08-07T11:08:48-04:00   \n",
       "29    O5pJux38nNA             fearthelocals  2019-08-05T22:41:12-04:00   \n",
       "...           ...                       ...                        ...   \n",
       "5636  MxnVzOgz4wk                 zander222  2019-08-14T20:36:35-04:00   \n",
       "5646  8m_izfof3j8            stereophototyp  2019-08-08T09:05:25-04:00   \n",
       "5650  t2KcT5jB7DQ                     3031n  2019-08-07T11:38:27-04:00   \n",
       "5660  usy6IrgHhSc                frogfather  2019-09-04T06:45:13-04:00   \n",
       "5673  Fw38fNg7Kv8                   neringa  2019-09-01T13:57:17-04:00   \n",
       "5682  TQY-T3SYSTE           fotografierende  2019-08-11T15:22:11-04:00   \n",
       "5685  D7ASqY_6N90         jayson_hinrichsen  2019-08-19T18:54:46-04:00   \n",
       "5701  uq5GcenoN_4              osiris_sight  2019-09-04T23:16:26-04:00   \n",
       "5710  HwtKKJjgTmc  concretelies_photography  2019-08-20T01:13:56-04:00   \n",
       "5713  Nhm-3WHitdw                 dbrandaof  2019-08-07T18:24:13-04:00   \n",
       "5717  BVRCpQ7Vnz0                sharkovski  2019-08-07T11:51:18-04:00   \n",
       "5719  MZT25Vo4bwg                   sidem0n  2019-08-07T08:43:06-04:00   \n",
       "5729  wn2BLotE8oY           randominstitute  2019-08-16T05:20:42-04:00   \n",
       "5734  Metk5Jtg0A8              dav_billings  2019-08-07T04:10:07-04:00   \n",
       "5753  0FZQeLqah6o                samuelsngx  2019-08-07T05:09:16-04:00   \n",
       "5760  2LlSzJKeYdU            albertohlfrias  2019-08-10T10:26:51-04:00   \n",
       "5761  IujGuVaGW8g                sharkovski  2019-08-07T11:22:22-04:00   \n",
       "5763  -FWU2UKRXZo             eberhardgross  2019-08-27T04:01:54-04:00   \n",
       "5764  MtByj17UDjU                  joshhild  2019-09-03T10:50:39-04:00   \n",
       "5767  P559qKtbcno        anna_tukhfatullina  2019-08-10T04:54:11-04:00   \n",
       "5777  S9xK7jc416M              martinkatler  2019-08-23T08:31:25-04:00   \n",
       "5779  -nVhdi8cxSk                  koushikc  2019-09-02T01:22:46-04:00   \n",
       "5784  SjZS6FpnOXg                    mateim  2019-08-07T03:05:26-04:00   \n",
       "5785  TTzLZeYprm8                    ceveoh  2019-08-18T17:51:21-04:00   \n",
       "5791  Mz6dZqGuvR8               guilllaumeg  2019-08-17T14:17:47-04:00   \n",
       "5795  M3-kUGFYyUE                     kylry  2019-08-20T22:11:29-04:00   \n",
       "5811  KoKRAsicm08                    ceveoh  2019-08-18T22:58:46-04:00   \n",
       "5813  LmNwngC-nyg             gersonrepreza  2019-08-08T13:50:54-04:00   \n",
       "5828  fIkH_N_mxzc                  jontyson  2019-08-07T15:36:47-04:00   \n",
       "5829  gjtz5cKGEEw         introspectivedsgn  2019-08-14T19:45:27-04:00   \n",
       "\n",
       "        views  likes  downloads          exif.make  exif.aperture  \\\n",
       "0      714716    118       1460  NIKON CORPORATION            2.8   \n",
       "1      301662     29        567              Canon            4.5   \n",
       "2      280267     66       1175               SONY            7.1   \n",
       "3      525334     56       1309               SONY            1.8   \n",
       "4      219458      6        426              Canon            1.8   \n",
       "5      444788     16        661                NaN            NaN   \n",
       "6      421988     54        946              Canon            1.4   \n",
       "7       85628     19        294  NIKON CORPORATION            2.0   \n",
       "8     1124169    283       2753              Canon            4.0   \n",
       "9      413072     43        765              Canon            2.8   \n",
       "10     325429      6        413              Canon            5.6   \n",
       "11     787356     51       1132                NaN            NaN   \n",
       "12     439770     97       1202  NIKON CORPORATION            7.1   \n",
       "13      66394      9         83              Canon            NaN   \n",
       "14     162039     26        345  NIKON CORPORATION            1.8   \n",
       "15     625680     41       1239              Canon            5.0   \n",
       "16     265340     31        609                NaN            NaN   \n",
       "17     192586     16        399              Canon            7.1   \n",
       "18     353978      4        676               Sony            NaN   \n",
       "19     420241     14        477           FUJIFILM            1.0   \n",
       "20     519741     86       1062               SONY            3.5   \n",
       "21     508440     49        817                NaN            NaN   \n",
       "22     440432     41       1410           FUJIFILM           22.0   \n",
       "23      70383     30        321               SONY            4.0   \n",
       "24     425688     68        977              Canon            3.5   \n",
       "25     416267     45        638              Canon            1.4   \n",
       "26     128844     28        329              Canon            5.6   \n",
       "27      68422     12        165               SONY            4.0   \n",
       "28     798164     92       1797              Canon            4.0   \n",
       "29     606976     26       1311              Canon            5.6   \n",
       "...       ...    ...        ...                ...            ...   \n",
       "5636   614906     74        917                NaN            NaN   \n",
       "5646  1018224    163       2868              Canon            5.6   \n",
       "5650   694085     88       1367                NaN            NaN   \n",
       "5660   637321    133       1237               SONY            4.5   \n",
       "5673   103266     33        378               SONY            1.6   \n",
       "5682   607516     40       1046  NIKON CORPORATION            5.6   \n",
       "5685   508176     70       1182  NIKON CORPORATION            1.8   \n",
       "5701   126186      8        269  NIKON CORPORATION            7.1   \n",
       "5710   516757     45       1204              Canon            2.0   \n",
       "5713   761116     58       1256               SONY            5.0   \n",
       "5717   684949     31       1183             Xiaomi            1.8   \n",
       "5719   633582     78       1302               SONY            8.0   \n",
       "5729   573408     47        852               SONY            1.4   \n",
       "5734   529229     73       1080               SONY            1.7   \n",
       "5753   533853     24       1173              Canon            4.0   \n",
       "5760   670839     19       1037               SONY            4.0   \n",
       "5761   675877     36       1555             Xiaomi            2.4   \n",
       "5763   276379     96        979              Canon            2.5   \n",
       "5764   178046     48        517              Canon            2.2   \n",
       "5767   629990     92       1467              Canon            5.0   \n",
       "5777   297781     94       1065              Canon            1.4   \n",
       "5779    94785      9        293  NIKON CORPORATION            1.8   \n",
       "5784   481673     15       1110               SONY            8.0   \n",
       "5785   349298     11        794  NIKON CORPORATION            1.8   \n",
       "5791   418019     33       1154               SONY            5.6   \n",
       "5795   325323     23        988       NORITSU KOKI            NaN   \n",
       "5811   357625     42        927  NIKON CORPORATION            1.8   \n",
       "5813   464380     69        870               SONY            2.0   \n",
       "5828   740720     75       1381              Apple            1.8   \n",
       "5829   670125    117       1793              Canon            2.5   \n",
       "\n",
       "     location.country  user.total_photos  user.total_collections  \\\n",
       "0                 NaN                336                       0   \n",
       "1                 NaN                 32                       9   \n",
       "2                 NaN                 23                       0   \n",
       "3                 NaN                 97                       0   \n",
       "4                 NaN                349                      62   \n",
       "5                 NaN                 98                       1   \n",
       "6                 NaN               1188                      27   \n",
       "7                 NaN                 17                       0   \n",
       "8                 NaN                128                       0   \n",
       "9                 NaN                 94                       1   \n",
       "10                NaN                 48                       0   \n",
       "11               USA                   8                       0   \n",
       "12                NaN                336                       0   \n",
       "13                NaN                 24                       0   \n",
       "14                NaN                151                       4   \n",
       "15         California                  2                       0   \n",
       "16                NaN                 48                       0   \n",
       "17           cambodia                 93                       1   \n",
       "18                NaN                 33                       2   \n",
       "19                NaN                 60                       5   \n",
       "20                NaN                301                       0   \n",
       "21                NaN                 89                       0   \n",
       "22                NaN                160                       0   \n",
       "23                NaN                 57                       4   \n",
       "24                NaN                182                       0   \n",
       "25                NaN                 73                       5   \n",
       "26      United States                100                       0   \n",
       "27                NaN                 57                       4   \n",
       "28                NaN                 32                       9   \n",
       "29                NaN                 59                       5   \n",
       "...               ...                ...                     ...   \n",
       "5636              NaN                 12                       1   \n",
       "5646              NaN                117                       7   \n",
       "5650        Macedonia                 15                       0   \n",
       "5660              NaN                 13                       0   \n",
       "5673              NaN                 33                       4   \n",
       "5682              NaN                369                       0   \n",
       "5685              NaN                102                       0   \n",
       "5701              NaN                 10                       0   \n",
       "5710              NaN                 50                       0   \n",
       "5713              NaN                 35                       3   \n",
       "5717        Hong Kong                149                      18   \n",
       "5719              NaN                 21                       0   \n",
       "5729              NaN                104                       2   \n",
       "5734              NaN                 63                       0   \n",
       "5753              NaN                197                       1   \n",
       "5760            Spain                 54                       4   \n",
       "5761        Hong Kong                149                      18   \n",
       "5763              NaN               1010                       5   \n",
       "5764              NaN                135                       0   \n",
       "5767              NaN                 30                       0   \n",
       "5777              NaN                 76                       0   \n",
       "5779              NaN                103                       0   \n",
       "5784              NaN                 59                       0   \n",
       "5785              NaN                 62                      15   \n",
       "5791              NaN                 22                       0   \n",
       "5795              NaN                162                       6   \n",
       "5811              NaN                 62                      15   \n",
       "5813              NaN                 87                       0   \n",
       "5828              NaN               1820                       0   \n",
       "5829              NaN               1132                       3   \n",
       "\n",
       "                           user.instagram_username user.twitter_username  \\\n",
       "0                           rareflower_photography                   NaN   \n",
       "1                                      schluditsch                   NaN   \n",
       "2                                     janellesoto_                   NaN   \n",
       "3                                       elijah_tmn            Elijah_sad   \n",
       "4                                      mr_theTrain            mrtheTrain   \n",
       "5                               Ash_photography_85                   NaN   \n",
       "6                                  shot.with.canon        LoveTheBicycle   \n",
       "7                                         ekrulila              ekrulila   \n",
       "8                                        hadleyjin             HadleyJin   \n",
       "9                                       ellieelien                   NaN   \n",
       "10                                       kingtobie             kingtobie   \n",
       "11                                         seantfr                   NaN   \n",
       "12                          rareflower_photography                   NaN   \n",
       "13                                       cash_vick                   NaN   \n",
       "14                                          moh_ph                moh_ph   \n",
       "15                                       lukasgeck                   NaN   \n",
       "16                                    andreaedavis                   NaN   \n",
       "17                                    screen_post/                   NaN   \n",
       "18                                  wesleypacifico                   NaN   \n",
       "19                                 marcus_chennnnn                   NaN   \n",
       "20                                     karlbewick_            KarlBewick   \n",
       "21    https://www.instagram.com/leviventura.photo/                   NaN   \n",
       "22     https://www.instagram.com/christianbuehner/                   NaN   \n",
       "23                                   francistogram                   NaN   \n",
       "24                                    kennyzhang29                   NaN   \n",
       "25                                       alex_lvrs                   NaN   \n",
       "26                                  beamomatic9000        beamomatic9000   \n",
       "27                                   francistogram                   NaN   \n",
       "28                                     schluditsch                   NaN   \n",
       "29                                   fearthelocals         ParkerCoffman   \n",
       "...                                            ...                   ...   \n",
       "5636                            capture_the_zander                   NaN   \n",
       "5646                               stereo.phototyp                   NaN   \n",
       "5650                                         3031n                3031n1   \n",
       "5660                                      thore_95                   NaN   \n",
       "5673                                           NaN                   NaN   \n",
       "5682                               fotografierende                   NaN   \n",
       "5685                             jayson_hinrichsen        jay_hinrichsen   \n",
       "5701                                           NaN                   NaN   \n",
       "5710                      concretelies_photography                   NaN   \n",
       "5713                                diogobrandao13                   NaN   \n",
       "5717                                   ksharkovski                   NaN   \n",
       "5719                                           NaN                   NaN   \n",
       "5729                                       curator       randominstitute   \n",
       "5734                                  dav_billings                   NaN   \n",
       "5753                                   samuelsng.p                   NaN   \n",
       "5760                                albertohlfrias        albertohlfrias   \n",
       "5761                                   ksharkovski                   NaN   \n",
       "5763                       eberhard_grossgasteiger         eberhardgross   \n",
       "5764                                      joshhild                   NaN   \n",
       "5767                            anna_tukhfatullina                   NaN   \n",
       "5777                                 martin_katler                   NaN   \n",
       "5779                                     Chkoushik            KoushikC19   \n",
       "5784                                     matei.emm                   NaN   \n",
       "5785                                        ceveoh                   NaN   \n",
       "5791                                       guytouu            snouflebox   \n",
       "5795                                        kylrya                 kylry   \n",
       "5811                                        ceveoh                   NaN   \n",
       "5813                                 gersonrepreza                   NaN   \n",
       "5828                                      jontyson              jontyson   \n",
       "5829                               recycled_hippie                   NaN   \n",
       "\n",
       "        color  dl_percent  like_percent  \n",
       "0     #26150A    0.204277      0.016510  \n",
       "1     #201D1A    0.187959      0.009613  \n",
       "2     #553E42    0.419243      0.023549  \n",
       "3     #E9E7EC    0.249175      0.010660  \n",
       "4     #E6E8D6    0.194115      0.002734  \n",
       "5     #F4F6F8    0.148610      0.003597  \n",
       "6     #E9DCCF    0.224177      0.012797  \n",
       "7     #151414    0.343346      0.022189  \n",
       "8     #8C8893    0.244892      0.025174  \n",
       "9     #CBD0D1    0.185198      0.010410  \n",
       "10    #F5BF3F    0.126909      0.001844  \n",
       "11    #060809    0.143772      0.006477  \n",
       "12    #A8B6E2    0.273325      0.022057  \n",
       "13    #1C1712    0.125011      0.013555  \n",
       "14    #E3A366    0.212912      0.016046  \n",
       "15    #C8B098    0.198025      0.006553  \n",
       "16    #060404    0.229517      0.011683  \n",
       "17    #E34F43    0.207180      0.008308  \n",
       "18    #0B0B0B    0.190972      0.001130  \n",
       "19    #B2D4EE    0.113506      0.003331  \n",
       "20    #F1F8F7    0.204333      0.016547  \n",
       "21    #15130E    0.160688      0.009637  \n",
       "22    #F1E2E6    0.320140      0.009309  \n",
       "23    #0A0D0F    0.456076      0.042624  \n",
       "24    #EEDBB7    0.229511      0.015974  \n",
       "25    #DEE0E4    0.153267      0.010810  \n",
       "26    #F6F6F6    0.255348      0.021732  \n",
       "27    #0D151A    0.241151      0.017538  \n",
       "28    #18100E    0.225142      0.011526  \n",
       "29    #E2DDD9    0.215989      0.004284  \n",
       "...       ...         ...           ...  \n",
       "5636  #0E0D0C    0.149128      0.012034  \n",
       "5646  #92D0FC    0.281667      0.016008  \n",
       "5650  #EB7F19    0.196950      0.012679  \n",
       "5660  #C9C2BA    0.194094      0.020869  \n",
       "5673  #EFFAFA    0.366045      0.031956  \n",
       "5682  #CFD0D8    0.172177      0.006584  \n",
       "5685  #FC0587    0.232597      0.013775  \n",
       "5701  #D2D7DE    0.213177      0.006340  \n",
       "5710  #2C1A1A    0.232992      0.008708  \n",
       "5713  #2C1A16    0.165021      0.007620  \n",
       "5717  #0B141C    0.172714      0.004526  \n",
       "5719  #1A1817    0.205498      0.012311  \n",
       "5729  #F2E8E8    0.148585      0.008197  \n",
       "5734  #EAC7B5    0.204070      0.013794  \n",
       "5753  #EBC5BB    0.219723      0.004496  \n",
       "5760  #F1F0EF    0.154583      0.002832  \n",
       "5761  #0B0A0B    0.230071      0.005326  \n",
       "5763  #1E262E    0.354224      0.034735  \n",
       "5764  #FC922E    0.290374      0.026959  \n",
       "5767  #FDC379    0.232861      0.014603  \n",
       "5777  #181E22    0.357645      0.031567  \n",
       "5779  #ED954D    0.309121      0.009495  \n",
       "5784  #F3EEEE    0.230447      0.003114  \n",
       "5785  #D4D7E1    0.227313      0.003149  \n",
       "5791  #FECC72    0.276064      0.007894  \n",
       "5795  #F9BCC2    0.303698      0.007070  \n",
       "5811  #FCFAFB    0.259210      0.011744  \n",
       "5813  #EFB392    0.187347      0.014859  \n",
       "5828  #06080B    0.186440      0.010125  \n",
       "5829  #FDEBE4    0.267562      0.017459  \n",
       "\n",
       "[2432 rows x 16 columns]"
      ]
     },
     "execution_count": 3,
     "metadata": {},
     "output_type": "execute_result"
    }
   ],
   "source": [
    "full_df = all_csv_df()\n",
    "Unsplash_df = full_df.drop_duplicates('id')\n",
    "Unsplash_df = Unsplash_df[['id', 'user.username', 'created_at', 'views', 'likes', 'downloads', 'exif.make', 'exif.aperture', 'location.country', 'user.total_photos', 'user.total_collections', 'user.instagram_username', 'user.twitter_username', 'color']]\n",
    "Unsplash_df['dl_percent'] = (Unsplash_df['downloads'] / Unsplash_df['views']) * 100\n",
    "Unsplash_df['like_percent'] = (Unsplash_df['likes'] / Unsplash_df['views']) * 100\n",
    "Unsplash_df"
   ]
  },
  {
   "cell_type": "code",
   "execution_count": 4,
   "metadata": {},
   "outputs": [],
   "source": [
    "# Cutting off outliers (<1% df >99%)\n",
    "Unsplash_df = Unsplash_df[Unsplash_df['dl_percent'] < 0.6917562385755861]\n",
    "Unsplash_df = Unsplash_df[Unsplash_df['dl_percent'] > 0.056323473476202715]"
   ]
  },
  {
   "cell_type": "code",
   "execution_count": null,
   "metadata": {},
   "outputs": [],
   "source": [
    "full_df = full_df.drop_duplicates('id')"
   ]
  },
  {
   "cell_type": "code",
   "execution_count": null,
   "metadata": {},
   "outputs": [],
   "source": [
    "# full_df.describe()"
   ]
  },
  {
   "cell_type": "code",
   "execution_count": null,
   "metadata": {
    "scrolled": false
   },
   "outputs": [],
   "source": [
    "# for col in full_df.columns: \n",
    "#     print(col) "
   ]
  },
  {
   "cell_type": "markdown",
   "metadata": {},
   "source": [
    "# Does Camera Model make a Difference?"
   ]
  },
  {
   "cell_type": "code",
   "execution_count": null,
   "metadata": {
    "scrolled": true
   },
   "outputs": [],
   "source": [
    "Unsplash_df['exif.make'].value_counts()"
   ]
  },
  {
   "cell_type": "markdown",
   "metadata": {},
   "source": [
    "### Breakdown of Camera usage (Top 5)"
   ]
  },
  {
   "cell_type": "code",
   "execution_count": null,
   "metadata": {
    "scrolled": true
   },
   "outputs": [],
   "source": [
    "# pie chart of workers\n",
    "labels = ['Canon', 'SONY', 'NIKON CORPORATION', 'FUJIFILM', 'Apple', 'Other']\n",
    "sizes = [Unsplash_df['exif.make'].value_counts()[0],\n",
    "         Unsplash_df['exif.make'].value_counts()[1],\n",
    "         Unsplash_df['exif.make'].value_counts()[2],\n",
    "         Unsplash_df['exif.make'].value_counts()[3],\n",
    "         Unsplash_df['exif.make'].value_counts()[4],\n",
    "         sum(Unsplash_df['exif.make'].value_counts()[5:])\n",
    "        ]\n",
    "\n",
    "fig1, ax1 = plt.subplots(figsize=(5,5))\n",
    "ax1.pie(sizes, labels=labels, autopct='%1.1f%%', shadow=True)\n",
    "ax1.axis('equal')\n",
    "plt.title('Brand Breakdown', fontsize=20)\n",
    "plt.show()\n",
    "\n",
    "# plt.savefig(fname= 'brands', quality=100)\n",
    "fig1.savefig('plots/brands.png')"
   ]
  },
  {
   "cell_type": "code",
   "execution_count": null,
   "metadata": {},
   "outputs": [],
   "source": [
    "# x1 = list(Unsplash_df[Unsplash_df['main_color'] == 'black']['exif.make'])\n",
    "# x2 = list(Unsplash_df[Unsplash_df['main_color'] == 'white']['exif.make'])\n",
    "# x3 = list(Unsplash_df[Unsplash_df['main_color'] == 'yellow']['exif.make'])\n",
    "# x4 = list(Unsplash_df[Unsplash_df['main_color'] == 'red']['exif.make'])\n",
    "# x5 = list(Unsplash_df[Unsplash_df['main_color'] == 'cyan']['exif.make'])\n",
    "\n",
    "# # Assign colors for each airline and the names\n",
    "# colors = ['black', 'grey', 'yellow', 'red', 'cyan']\n",
    "# names = ['black', 'white', 'yellow',\n",
    "#          'red', 'cyan']\n",
    "         \n",
    "# # Make the histogram using a list of lists\n",
    "# # Normalize the flights and assign colors and names\n",
    "# plt.hist([x1, x2, x3, x4, x5], bins = int(180/15), density=False,\n",
    "#         color = colors, label=names)\n",
    "\n",
    "# # Plot formatting\n",
    "# plt.xticks(rotation=45)\n",
    "# plt.legend()\n",
    "# plt.xlabel('Colors')\n",
    "# plt.ylabel('Total Colors')\n",
    "# plt.title('Side-by-Side Histogram with Camera Color Profile');"
   ]
  },
  {
   "cell_type": "code",
   "execution_count": null,
   "metadata": {},
   "outputs": [],
   "source": [
    "model_df = Unsplash_df.groupby(['exif.make']).mean()"
   ]
  },
  {
   "cell_type": "code",
   "execution_count": null,
   "metadata": {
    "scrolled": true
   },
   "outputs": [],
   "source": [
    "target_model = model_df.loc[['Canon', 'SONY', 'NIKON CORPORATION', 'FUJIFILM', 'Apple']].sort_index(ascending=False).reset_index()"
   ]
  },
  {
   "cell_type": "code",
   "execution_count": null,
   "metadata": {},
   "outputs": [],
   "source": [
    "target_model"
   ]
  },
  {
   "cell_type": "code",
   "execution_count": null,
   "metadata": {},
   "outputs": [],
   "source": [
    "sns.catplot(x='exif.make', y='views', data=target_model, kind='bar', height=7)\n",
    "plt.title('Camera Model Average Views', fontsize=20);"
   ]
  },
  {
   "cell_type": "code",
   "execution_count": null,
   "metadata": {
    "scrolled": false
   },
   "outputs": [],
   "source": [
    "sns.catplot(x='exif.make', y='dl_percent', data=target_model, kind='bar', height=7)\n",
    "plt.title('Camera Model Average Views', fontsize=20);"
   ]
  },
  {
   "cell_type": "markdown",
   "metadata": {},
   "source": [
    "# Is More Total Photos Correlated with more Engagment?"
   ]
  },
  {
   "cell_type": "code",
   "execution_count": null,
   "metadata": {},
   "outputs": [],
   "source": [
    "user_group = Unsplash_df.groupby(['user.username'])"
   ]
  },
  {
   "cell_type": "code",
   "execution_count": null,
   "metadata": {},
   "outputs": [],
   "source": [
    "user_group.first()"
   ]
  },
  {
   "cell_type": "code",
   "execution_count": null,
   "metadata": {
    "scrolled": false
   },
   "outputs": [],
   "source": [
    "x = Unsplash_df['user.total_photos'].tolist()\n",
    "y_view = Unsplash_df['views'].tolist()\n",
    "\n",
    "plt.scatter(x, y_view, alpha=0.2)\n",
    "plt.title('Total Photo to Views', fontsize=20)\n",
    "plt.xlabel('User Total Photos', fontsize=20)\n",
    "plt.ylabel('Views', fontsize=20)\n",
    "plt.xticks(fontsize=15)\n",
    "plt.yticks(fontsize=15)\n",
    "plt.xlim(0, 2000)\n",
    "plt.ylim(0, 1500000);"
   ]
  },
  {
   "cell_type": "markdown",
   "metadata": {},
   "source": [
    "# Aperture Comparison"
   ]
  },
  {
   "cell_type": "code",
   "execution_count": null,
   "metadata": {},
   "outputs": [],
   "source": [
    "x1 = Unsplash_df['exif.aperture'].tolist()\n",
    "\n",
    "plt.scatter(x1, y_view, alpha=0.2)\n",
    "plt.title('Aperture to Views', fontsize=20)\n",
    "plt.xlabel('User Total Photos', fontsize=20)\n",
    "plt.ylabel('Views', fontsize=20)\n",
    "plt.xticks(fontsize=15)\n",
    "plt.yticks(fontsize=15)\n",
    "plt.xlim(0, 17)\n",
    "plt.ylim(0, 1500000);"
   ]
  },
  {
   "cell_type": "markdown",
   "metadata": {},
   "source": [
    "# Hex --> RBG"
   ]
  },
  {
   "cell_type": "code",
   "execution_count": null,
   "metadata": {
    "scrolled": true
   },
   "outputs": [],
   "source": [
    "# Unsplash_df['color'].value_counts()"
   ]
  },
  {
   "cell_type": "code",
   "execution_count": 6,
   "metadata": {
    "scrolled": false
   },
   "outputs": [],
   "source": [
    "#Appending colors to a singular list\n",
    "color_list = Unsplash_df['color'].tolist()\n",
    "rgb_list = []\n",
    "\n",
    "for i in color_list:\n",
    "    h = i.lstrip('#')\n",
    "    rgb_list.append(tuple(int(h[i:i+2], 16) for i in (0, 2, 4)))\n",
    "\n",
    "#Splitting into 3 categories\n",
    "red = []\n",
    "green = []\n",
    "blue = []\n",
    "\n",
    "for i in rgb_list:\n",
    "    red.append(i[0])\n",
    "    \n",
    "for i in rgb_list:\n",
    "    green.append(i[1])\n",
    "\n",
    "for i in rgb_list:\n",
    "    blue.append(i[2])\n",
    "    \n",
    "# Making new columns to dataframe\n",
    "Unsplash_df['rgb'] = rgb_list\n",
    "Unsplash_df['red'] = red\n",
    "Unsplash_df['green'] = green\n",
    "Unsplash_df['blue'] = blue"
   ]
  },
  {
   "cell_type": "code",
   "execution_count": null,
   "metadata": {},
   "outputs": [],
   "source": [
    "'''\n",
    "red_plot = Unsplash_df['red'].value_counts().plot(kind='hist', bins=30, alpha=0.4)\n",
    "green_plot = Unsplash_df['green'].value_counts().plot(kind='hist', bins=30, alpha=0.4)\n",
    "blue_plot = Unsplash_df['blue'].value_counts().plot(kind='hist', bins=30, alpha=0.4);\n",
    "'''"
   ]
  },
  {
   "cell_type": "markdown",
   "metadata": {},
   "source": [
    "## Distribution Based on Color"
   ]
  },
  {
   "cell_type": "code",
   "execution_count": 7,
   "metadata": {
    "scrolled": false
   },
   "outputs": [
    {
     "data": {
      "image/png": "[encoded data removed]",
      "text/plain": [
       "<Figure size 432x288 with 1 Axes>"
      ]
     },
     "metadata": {},
     "output_type": "display_data"
    }
   ],
   "source": [
    "#Violin plot of each color\n",
    "sns.set(style='whitegrid')\n",
    "my_pal = {\"red\": \"r\", \"green\": \"g\", \"blue\":\"b\"}\n",
    "sns.violinplot(data=Unsplash_df[['red', 'green', 'blue']], palette=my_pal)\n",
    "plt.title('Frequency based on color', fontsize=20)\n",
    "plt.xticks(fontsize=15)\n",
    "plt.yticks(fontsize=15)\n",
    "plt.xlabel('Color', fontsize=15)\n",
    "plt.ylabel('Frequency', fontsize=15);\n",
    "\n",
    "plt.savefig('plots/violincolor.png')"
   ]
  },
  {
   "cell_type": "code",
   "execution_count": null,
   "metadata": {},
   "outputs": [],
   "source": [
    "# Unsplash_df.describe()\n",
    "# r = 152\n",
    "# g = 141\n",
    "# b = 133"
   ]
  },
  {
   "cell_type": "markdown",
   "metadata": {},
   "source": [
    "### Seperation values function for each color"
   ]
  },
  {
   "cell_type": "code",
   "execution_count": 8,
   "metadata": {},
   "outputs": [],
   "source": [
    "#Categorizes color in a binary way\n",
    "\n",
    "bin_list = []\n",
    "\n",
    "for i in rgb_list:\n",
    "    if i[0] > 152 and i[1] < 141 and i[2] < 133:\n",
    "        bin_list.append('red')\n",
    "    elif i[0] > 152 and i[1] < 141 and i[2] > 133:\n",
    "        bin_list.append('magenta')\n",
    "    elif i[0] > 152 and i[1] > 141 and i[2] < 133:\n",
    "        bin_list.append('yellow')\n",
    "    elif i[0] > 152 and i[1] > 141 and i[2] > 133:\n",
    "        bin_list.append('white')\n",
    "    elif i[0] < 152 and i[1] > 141 and i[2] > 133:\n",
    "        bin_list.append('cyan')\n",
    "    elif i[0] < 152 and i[1] > 141 and i[2] < 133:\n",
    "        bin_list.append('lime')\n",
    "    elif i[0] < 152 and i[1] < 141 and i[2] > 133:\n",
    "        bin_list.append('blue')\n",
    "    else:\n",
    "        bin_list.append('black')\n",
    "\n",
    "#Makes new column with seperated color\n",
    "Unsplash_df['main_color'] = bin_list\n",
    "\n",
    "#Create average color from RGB values\n",
    "Unsplash_df_list = ((Unsplash_df['red'] + Unsplash_df['green'] + Unsplash_df['blue']) // 3).tolist()\n",
    "Unsplash_df['avg_colors'] = Unsplash_df_list"
   ]
  },
  {
   "cell_type": "code",
   "execution_count": null,
   "metadata": {},
   "outputs": [],
   "source": [
    "# Unsplash_df.groupby('main_color').count()"
   ]
  },
  {
   "cell_type": "code",
   "execution_count": null,
   "metadata": {},
   "outputs": [],
   "source": [
    "Unsplash_df.head()"
   ]
  },
  {
   "cell_type": "markdown",
   "metadata": {},
   "source": [
    "# Color(est) Photos Analysis"
   ]
  },
  {
   "cell_type": "markdown",
   "metadata": {},
   "source": [
    "#### White(est)"
   ]
  },
  {
   "cell_type": "code",
   "execution_count": null,
   "metadata": {},
   "outputs": [],
   "source": [
    "#Make Dataframe for just only white\n",
    "white_df = Unsplash_df[Unsplash_df['main_color'] == 'white']\n",
    "white_df.sort_values(['avg_colors', 'dl_percent'], ascending=False)"
   ]
  },
  {
   "cell_type": "markdown",
   "metadata": {},
   "source": [
    "#### Black(est)"
   ]
  },
  {
   "cell_type": "code",
   "execution_count": null,
   "metadata": {},
   "outputs": [],
   "source": [
    "black_df = Unsplash_df[Unsplash_df['main_color'] == 'black']\n",
    "black_df.sort_values(['avg_colors', 'dl_percent'])"
   ]
  },
  {
   "cell_type": "code",
   "execution_count": null,
   "metadata": {
    "scrolled": true
   },
   "outputs": [],
   "source": [
    "# print(white_df.mean())\n",
    "# print(black_df.mean())"
   ]
  },
  {
   "cell_type": "code",
   "execution_count": null,
   "metadata": {},
   "outputs": [],
   "source": [
    "#White_mean = 0.244\n",
    "#Black_mean = 0.257\n",
    "ax = white_df.plot.scatter(x='avg_colors', y='dl_percent', c='avg_colors', colorbar = False, colormap='viridis', alpha=0.7, title='Download rate based on intensity', figsize= (10, 10), fontsize=15)\n",
    "black_df.plot.scatter(x='avg_colors', y='dl_percent', c='avg_colors', colorbar = False, colormap='magma', alpha=0.7, ax=ax);"
   ]
  },
  {
   "cell_type": "markdown",
   "metadata": {},
   "source": [
    "# Best 'Engagement'"
   ]
  },
  {
   "cell_type": "code",
   "execution_count": null,
   "metadata": {
    "scrolled": false
   },
   "outputs": [],
   "source": [
    "#dl_percent = 0.236552\n",
    "#like_percent = 0.012917\n",
    "ax = Unsplash_df.plot.scatter(x='views', y='dl_percent', c='avg_colors', colorbar = False, colormap='viridis', alpha=0.7, title='Download to Like Percentage', figsize= (10, 10), fontsize=15)\n",
    "Unsplash_df.plot.scatter(x='views', y='like_percent', c='avg_colors', colorbar = False, colormap='magma', alpha=0.7, ax=ax)\n",
    "plt.xlim(9, 500000);"
   ]
  },
  {
   "cell_type": "code",
   "execution_count": null,
   "metadata": {},
   "outputs": [],
   "source": [
    "# Unsplash_df.mean()"
   ]
  },
  {
   "cell_type": "code",
   "execution_count": null,
   "metadata": {},
   "outputs": [],
   "source": []
  },
  {
   "cell_type": "markdown",
   "metadata": {},
   "source": [
    "# Color and Camera Correlation"
   ]
  },
  {
   "cell_type": "code",
   "execution_count": null,
   "metadata": {},
   "outputs": [],
   "source": [
    "Unsplash_df['main_color'].value_counts()"
   ]
  },
  {
   "cell_type": "code",
   "execution_count": null,
   "metadata": {},
   "outputs": [],
   "source": [
    "#Histogram of color breakdown\n",
    "my_colors = list(islice(cycle(['w', 'black', 'y', 'r', 'c', 'blue', 'm']), None, len(Unsplash_df)))\n",
    "Unsplash_df['main_color'].value_counts().plot.bar(color=my_colors, edgecolor= 'black', linewidth=1.2)\n",
    "plt.title('Main Colors in Photos', fontsize=25)\n",
    "plt.xticks(fontsize=15)\n",
    "plt.yticks(fontsize=15)\n",
    "plt.xlabel('Color', fontsize=15)\n",
    "plt.ylabel('Frequency', fontsize=15)\n",
    "plt.xticks(rotation=45);\n",
    "\n",
    "plt.savefig('plots/colorhist.png')"
   ]
  },
  {
   "cell_type": "code",
   "execution_count": null,
   "metadata": {},
   "outputs": [],
   "source": [
    "# Pie chart\n",
    "labels = ['White', 'Black', 'Yellow', 'Red', 'Other']\n",
    "sizes = [1168, 836, 144, 93, 29+23+ 10]\n",
    "#colors\n",
    "colors = list(islice(cycle(['lightgrey', 'black', 'y', 'r', 'c']), None, len(Unsplash_df)))\n",
    " \n",
    "#explsion\n",
    "explode = (.05,0.05,0.05,0.05,0.05)\n",
    " \n",
    "plt.pie(sizes, colors = colors, labels=labels, autopct='%1.1f%%', startangle=60, pctdistance=0.50, explode = explode)\n",
    "#draw circle\n",
    "centre_circle = plt.Circle((0,0),0.7,fc='white')\n",
    "fig = plt.gcf()\n",
    "fig.gca().add_artist(centre_circle)\n",
    "# Equal aspect ratio ensures that pie is drawn as a circle\n",
    "plt.axis('equal')  \n",
    "plt.tight_layout()\n",
    "plt.title('Color Breakdown', fontsize=20)\n",
    "plt.show()\n",
    "\n",
    "fig.savefig('plots/piecolor.png')"
   ]
  },
  {
   "cell_type": "code",
   "execution_count": null,
   "metadata": {
    "scrolled": true
   },
   "outputs": [],
   "source": [
    "canon = Unsplash_df[Unsplash_df['exif.make'] == 'Canon'].groupby('main_color')\n",
    "nikon = Unsplash_df[Unsplash_df['exif.make'] == 'NIKON CORPORATION'].groupby('main_color')\n",
    "sony = Unsplash_df[Unsplash_df['exif.make'] == 'SONY'].groupby('main_color')\n",
    "fujifilm = Unsplash_df[Unsplash_df['exif.make'] == 'FUJIFILM'].groupby('main_color')\n",
    "apple = Unsplash_df[Unsplash_df['exif.make'] == 'Apple'].groupby('main_color')"
   ]
  },
  {
   "cell_type": "code",
   "execution_count": null,
   "metadata": {},
   "outputs": [],
   "source": [
    "canon_dict = canon['main_color'].count().to_dict()\n",
    "nikon_dict = nikon['main_color'].count().to_dict()\n",
    "sony_dict = sony['main_color'].count().to_dict()\n",
    "fujifilm_dict = fujifilm['main_color'].count().to_dict()\n",
    "apple_dict = apple['main_color'].count().to_dict()"
   ]
  },
  {
   "cell_type": "code",
   "execution_count": null,
   "metadata": {},
   "outputs": [],
   "source": [
    "labels = ['White', 'Black', 'Yellow', 'Red', 'Cyan', 'Blue', 'Magenta']\n",
    "sizes = [canon_dict['white'],\n",
    "         canon_dict['black'],\n",
    "         canon_dict['yellow'],\n",
    "         canon_dict['red'],\n",
    "         canon_dict['cyan'],\n",
    "         canon_dict['blue'], \n",
    "         canon_dict['magenta']\n",
    "        ]\n",
    "my_colors = ['w', 'darkgrey', 'yellow', 'r', 'cyan', 'blue', 'magenta']\n",
    "\n",
    "fig1, ax1 = plt.subplots(figsize=(5,5))\n",
    "ax1.pie(sizes, labels=labels, autopct='%1.1f%%', shadow=True, colors=my_colors)\n",
    "ax1.axis('equal')\n",
    "plt.title('Canon Color Breakdown', fontsize=20)\n",
    "plt.legend()\n",
    "plt.show()"
   ]
  },
  {
   "cell_type": "code",
   "execution_count": null,
   "metadata": {},
   "outputs": [],
   "source": []
  },
  {
   "cell_type": "code",
   "execution_count": null,
   "metadata": {},
   "outputs": [],
   "source": [
    "sony_dict"
   ]
  },
  {
   "cell_type": "code",
   "execution_count": null,
   "metadata": {},
   "outputs": [],
   "source": [
    "X = np.arange(len(canon_dict))\n",
    "ax = plt.subplot(111)\n",
    "ax.bar(X, canon_dict.values(), width=0.2, color='b', align='center')\n",
    "ax.bar(X-0.2, nikon_dict.values(), width=0.2, color='g', align='center')\n",
    "# ax.bar(X-0.4, sony_dict.values(), width=0.2, color='y', align='center')\n",
    "# ax.bar(X-0.6, fujifilm_dict.values(), width=0.2, color='m', align='center')\n",
    "# ax.bar(X-0.8, apple_dict.values(), width=0.2, color='c', align='center')\n",
    "# ax.legend(('Canon','Nikon'))\n",
    "plt.xticks(X, canon_dict.keys())\n",
    "plt.title(\"Color Comparison\", fontsize=17)\n",
    "plt.show()"
   ]
  },
  {
   "cell_type": "code",
   "execution_count": null,
   "metadata": {},
   "outputs": [],
   "source": [
    "plt.bar(canon_dict.keys(), canon_dict.values())"
   ]
  },
  {
   "cell_type": "code",
   "execution_count": null,
   "metadata": {
    "scrolled": true
   },
   "outputs": [],
   "source": [
    "Unsplash_df[['exif.make', 'main_color']].dropna()"
   ]
  },
  {
   "cell_type": "markdown",
   "metadata": {},
   "source": [
    "# Which test should we use?"
   ]
  },
  {
   "cell_type": "markdown",
   "metadata": {},
   "source": [
    "find percentile of a dl_percentage\n",
    "99% and 99.9% and figure out why it is an outlier\n",
    "Show the class the outlier but average photo\n",
    "\n",
    "Constraining for photos that have a certain number of \n",
    "Make a density of views and downloads"
   ]
  },
  {
   "cell_type": "code",
   "execution_count": 9,
   "metadata": {
    "scrolled": true
   },
   "outputs": [
    {
     "data": {
      "image/png": "[encoded data removed]",
      "text/plain": [
       "<Figure size 432x288 with 1 Axes>"
      ]
     },
     "metadata": {},
     "output_type": "display_data"
    }
   ],
   "source": [
    "# Plotting density plot to check if it follows a normal distribution\n",
    "p1=sns.kdeplot(Unsplash_df['dl_percent'], shade=True, color=\"r\")\n",
    "p1.set_xlabel('Download Percentage')\n",
    "p1.set_ylabel('Density')\n",
    "p1.set_title('Density of Download Percentage (trimmed)');\n",
    "\n",
    "plt.savefig('plots/dldensity.png')\n",
    "# It is not normal but might be since we did not control for outliers. \n",
    "# Looks like it has a right long tail"
   ]
  },
  {
   "cell_type": "code",
   "execution_count": null,
   "metadata": {},
   "outputs": [],
   "source": [
    "# Assuming the alpha = 0.05, p-value was 0.3301 which is larger, it is not a normal distribution\n",
    "stats.normaltest(Unsplash_df['dl_percent'])"
   ]
  },
  {
   "cell_type": "code",
   "execution_count": null,
   "metadata": {},
   "outputs": [],
   "source": [
    "print ('This is the 99% of dl_percent: {}'.format(np.percentile(Unsplash_df['dl_percent'], 99)))\n",
    "print ('This is the 1% of dl_percent: {}'.format(np.percentile(Unsplash_df['dl_percent'], 1)))\n",
    "# This helps us to determine the cut-off"
   ]
  },
  {
   "cell_type": "code",
   "execution_count": null,
   "metadata": {},
   "outputs": [],
   "source": [
    "# Cut off top and bottom 1% of download percentage\n",
    "Unsplash_df = Unsplash_df[Unsplash_df['dl_percent'] < 0.6917562385755861]\n",
    "Unsplash_df = Unsplash_df[Unsplash_df['dl_percent'] > 0.056323473476202715]"
   ]
  },
  {
   "cell_type": "code",
   "execution_count": null,
   "metadata": {},
   "outputs": [],
   "source": [
    "p1=sns.kdeplot(Unsplash_df['dl_percent'], shade=True, color=\"r\")"
   ]
  },
  {
   "cell_type": "code",
   "execution_count": null,
   "metadata": {},
   "outputs": [],
   "source": [
    "# Seeing if the log function of the dl_percent is normal\n",
    "p1=sns.kdeplot(np.log(Unsplash_df['dl_percent']), shade=True, color=\"r\")\n",
    "# Not really normal, but MIGHT be"
   ]
  },
  {
   "cell_type": "code",
   "execution_count": null,
   "metadata": {},
   "outputs": [],
   "source": [
    "p1=sns.kdeplot(Unsplash_df['views'], shade=True, color=\"r\")"
   ]
  },
  {
   "cell_type": "code",
   "execution_count": null,
   "metadata": {},
   "outputs": [],
   "source": [
    "print ('This is the 99% of views: {}'.format(np.percentile(Unsplash_df['views'], 99)))\n",
    "print ('This is the 1% of views: {}'.format(np.percentile(Unsplash_df['views'], 1)))\n",
    "# This helps us to determine the cut-off"
   ]
  },
  {
   "cell_type": "code",
   "execution_count": null,
   "metadata": {
    "scrolled": true
   },
   "outputs": [],
   "source": [
    "p2=sns.kdeplot(Unsplash_df['downloads'], shade=True, color=\"b\")"
   ]
  },
  {
   "cell_type": "code",
   "execution_count": null,
   "metadata": {},
   "outputs": [],
   "source": [
    "print ('This is the 99% of downloads: {}'.format(np.percentile(Unsplash_df['downloads'], 99)))\n",
    "print ('This is the 1% of downloads: {}'.format(np.percentile(Unsplash_df['downloads'], 1)))\n",
    "# This helps us to determine the cut-off"
   ]
  },
  {
   "cell_type": "code",
   "execution_count": null,
   "metadata": {
    "scrolled": true
   },
   "outputs": [],
   "source": [
    "plt.scatter(Unsplash_df['views'], Unsplash_df['downloads'], alpha=.3);"
   ]
  },
  {
   "cell_type": "markdown",
   "metadata": {},
   "source": [
    "# Hypothesis Testing"
   ]
  },
  {
   "cell_type": "code",
   "execution_count": null,
   "metadata": {
    "scrolled": true
   },
   "outputs": [],
   "source": [
    "# Unsplash_df['user.username'].value_counts()"
   ]
  },
  {
   "cell_type": "code",
   "execution_count": null,
   "metadata": {
    "scrolled": true
   },
   "outputs": [],
   "source": [
    "# Unsplash_df.sum()"
   ]
  },
  {
   "cell_type": "code",
   "execution_count": null,
   "metadata": {},
   "outputs": [],
   "source": [
    "user_df = Unsplash_df[Unsplash_df['user.username'] == 'anitaaustvika']"
   ]
  },
  {
   "cell_type": "code",
   "execution_count": null,
   "metadata": {
    "scrolled": true
   },
   "outputs": [],
   "source": [
    "# user_df.describe()"
   ]
  },
  {
   "cell_type": "code",
   "execution_count": null,
   "metadata": {
    "scrolled": true
   },
   "outputs": [],
   "source": [
    "#Getting values for binomial test\n",
    "total_view_sum = sum(Unsplash_df['views'])\n",
    "total_dl_sum = sum(Unsplash_df['downloads'])\n",
    "total_dl_mean = total_dl_sum / total_view_sum\n",
    "\n",
    "user_view_sum = sum(user_df['views'])\n",
    "user_dl_sum = sum(user_df['downloads'])"
   ]
  },
  {
   "cell_type": "code",
   "execution_count": null,
   "metadata": {},
   "outputs": [],
   "source": [
    "binomial = stats.binom(n=user_view_sum,p=total_dl_mean)\n",
    "p_value = 1 - binomial.cdf(user_dl_sum)\n",
    "p_value"
   ]
  },
  {
   "cell_type": "code",
   "execution_count": null,
   "metadata": {},
   "outputs": [],
   "source": [
    "fig, axs = plt.subplots(1, figsize=(16,4))\n",
    "#plot binomial distribution\n",
    "bars = axs.bar(range(45000), \n",
    "              [binomial.pmf(i) for i in range(45000)], \n",
    "              color=\"grey\", edgecolor='black', align=\"center\")\n",
    "axs.set_xlim(38000, 45000)\n",
    "axs.set_ylim(0,0.003)\n",
    "\n",
    "#p-value area: red\n",
    "for i in range(44403, 45000):\n",
    "    bars[i].set_color('red')\n",
    "    \n",
    "# Set title & label    \n",
    "axs.set_title(\"P-value Reigon\", fontsize = 20)\n",
    "# Font size setting on each axis\n",
    "axs.tick_params(axis='both', which='major', labelsize=20)"
   ]
  },
  {
   "cell_type": "code",
   "execution_count": null,
   "metadata": {
    "scrolled": true
   },
   "outputs": [],
   "source": [
    "sns.distplot(Unsplash_df['dl_percent'], hist=True, kde=True, \n",
    "             bins=1000,color = 'darkblue', \n",
    "             hist_kws={'edgecolor':'black'},\n",
    "             kde_kws={'linewidth': 3})\n",
    "plt.title('Density of Download Percentage')\n",
    "plt.xlabel('Downloads / Views')\n",
    "plt.xlim(0,0.8);"
   ]
  },
  {
   "cell_type": "markdown",
   "metadata": {},
   "source": [
    "### Color(white) hypothesis test to total"
   ]
  },
  {
   "cell_type": "code",
   "execution_count": null,
   "metadata": {},
   "outputs": [],
   "source": [
    "x1 = list(Unsplash_df[Unsplash_df['exif.make'] == 'Canon']['main_color'])\n",
    "x2 = list(Unsplash_df[Unsplash_df['exif.make'] == 'SONY']['main_color'])\n",
    "x3 = list(Unsplash_df[Unsplash_df['exif.make'] == 'NIKON CORPORATION']['main_color'])\n",
    "x4 = list(Unsplash_df[Unsplash_df['exif.make'] == 'FUJIFILM']['main_color'])\n",
    "x5 = list(Unsplash_df[Unsplash_df['exif.make'] == 'Apple']['main_color'])\n",
    "\n",
    "# Assign colors for each airline and the names\n",
    "colors = ['#E69F00', '#56B4E9', '#F0E442', '#009E73', '#D55E00']\n",
    "names = ['Canon', 'Sony', 'Nikon',\n",
    "         'Fujifilm', 'Apple']\n",
    "         \n",
    "# Make the histogram using a list of lists\n",
    "# Normalize the flights and assign colors and names\n",
    "plt.hist([x1, x2, x3, x4, x5], bins = int(180/15), density=False,\n",
    "        color = colors, label=names)\n",
    "\n",
    "# Plot formatting\n",
    "plt.xticks(rotation=45)\n",
    "plt.legend()\n",
    "plt.xlabel('Colors')\n",
    "plt.ylabel('Normalized Colors')\n",
    "plt.title('Side-by-Side Histogram with Camera Color Profile');"
   ]
  },
  {
   "cell_type": "code",
   "execution_count": null,
   "metadata": {},
   "outputs": [],
   "source": [
    "white_df = Unsplash_df[Unsplash_df['main_color'] == 'white']\n",
    "black_df = Unsplash_df[Unsplash_df['main_color'] == 'black']"
   ]
  },
  {
   "cell_type": "code",
   "execution_count": null,
   "metadata": {},
   "outputs": [],
   "source": [
    "# white_df.describe()\n",
    "# sum(black_df['downloads'])"
   ]
  },
  {
   "cell_type": "code",
   "execution_count": null,
   "metadata": {},
   "outputs": [],
   "source": [
    "#Getting values for binomial test\n",
    "total_white_view_sum = sum(white_df['views'])\n",
    "total_white_dl_sum = sum(white_df['downloads'])\n",
    "total_white_dl_mean = white_df['dl_percent'].mean()\n",
    "\n",
    "total_black_view_sum = sum(black_df['views'])\n",
    "total_black_dl_sum = sum(black_df['downloads'])\n",
    "total_black_dl_mean = black_df['dl_percent'].mean()"
   ]
  },
  {
   "cell_type": "code",
   "execution_count": null,
   "metadata": {},
   "outputs": [],
   "source": [
    "binomial1 = stats.binom(n=total_white_view_sum,p=total_dl_mean)\n",
    "p_value_white = 1 - binomial1.cdf(total_white_dl_sum)\n",
    "p_value_white"
   ]
  },
  {
   "cell_type": "code",
   "execution_count": null,
   "metadata": {},
   "outputs": [],
   "source": [
    "binomial2 = stats.binom(n=total_black_view_sum,p=total_dl_mean)\n",
    "p_value_black = binomial2.cdf(total_black_dl_sum)\n",
    "p_value_black"
   ]
  },
  {
   "cell_type": "code",
   "execution_count": null,
   "metadata": {},
   "outputs": [],
   "source": [
    "ax = sns.distplot(Unsplash_df['dl_percent'],\n",
    "                  bins=100,\n",
    "                  kde=True,\n",
    "                  color='skyblue',\n",
    "                  )\n",
    "ax.set(xlabel='Download Percent', ylabel='Frequency')\n",
    "plt.xlim(0, .8);"
   ]
  },
  {
   "cell_type": "code",
   "execution_count": null,
   "metadata": {
    "scrolled": true
   },
   "outputs": [],
   "source": [
    "x = Unsplash_df['dl_percent']\n",
    "y = white_df['dl_percent']\n",
    "\n",
    "bins = 100\n",
    "\n",
    "plt.hist(x, bins, alpha=0.5, label='Sample download percentage')\n",
    "plt.hist(y, bins, alpha=0.5, label='White color download percentage')\n",
    "plt.xlim(0, 0.8)\n",
    "plt.legend(loc='upper right')\n",
    "plt.show()"
   ]
  },
  {
   "cell_type": "code",
   "execution_count": null,
   "metadata": {},
   "outputs": [],
   "source": [
    "x = Unsplash_df['dl_percent']\n",
    "y = black_df['dl_percent']\n",
    "\n",
    "bins = 100\n",
    "\n",
    "plt.hist(x, bins, alpha=0.5, label='Sample download percentage')\n",
    "plt.hist(y, bins, alpha=0.5, label='Black color download percentage')\n",
    "plt.xlim(0, 0.8)\n",
    "plt.legend(loc='upper right')\n",
    "plt.show()"
   ]
  },
  {
   "cell_type": "code",
   "execution_count": null,
   "metadata": {},
   "outputs": [],
   "source": [
    "Unsplash_normal = norm.rvs(size=10000,loc=1908,scale=1)\n",
    "white_normal = norm.rvs(size=10000,loc=1912,scale=1)\n",
    "\n",
    "\n",
    "ax = sns.distplot(Unsplash_normal,\n",
    "                  bins=100,\n",
    "                  kde=True,\n",
    "                  color='blue')\n",
    "ax = sns.distplot(white_normal,\n",
    "                  bins=100,\n",
    "                  kde=True,\n",
    "                  color='red')\n",
    "ax.set(xlabel='Normal', ylabel='Frequency')\n",
    "plt.title('Unsplash to White Color Download Rate');"
   ]
  },
  {
   "cell_type": "code",
   "execution_count": null,
   "metadata": {},
   "outputs": [],
   "source": [
    "df = Unsplash_df[['dl_percent']]\n",
    "df['white_color'] = white_df['dl_percent']\n",
    "ax = df.plot.hist(bins=100, alpha=0.5, density=True)\n",
    "plt.xlim(0, 0.7);"
   ]
  },
  {
   "cell_type": "code",
   "execution_count": null,
   "metadata": {},
   "outputs": [],
   "source": [
    "'''\n",
    "#Box Plotting the average of 2 groups\n",
    "fig = plt.figure(1, figsize=(9, 6))\n",
    "ax = fig.add_subplot(111)\n",
    "# plt.xlim(0, 0.8)\n",
    "bp = ax.boxplot([not_white_df['dl_percent'], white_df['dl_percent']], labels=['Not White', 'White'], vert=False)\n",
    "ax.set_title('Comparison of 2 Color Groups')\n",
    "ax.set_ylabel('Colors')\n",
    "ax.set_xlabel('Download Percentage');\n",
    "'''"
   ]
  },
  {
   "cell_type": "markdown",
   "metadata": {},
   "source": [
    "# U-Test"
   ]
  },
  {
   "cell_type": "markdown",
   "metadata": {},
   "source": [
    "The U-test does not make assumptions leading to a more accurate model that is more clear in comparing 2 different scenarios."
   ]
  },
  {
   "cell_type": "code",
   "execution_count": null,
   "metadata": {},
   "outputs": [],
   "source": [
    "def jitter_plot(a, m, c=None):\n",
    "    fig, ax = plt.subplots(1, figsize=(16, 3))\n",
    "\n",
    "    ax.scatter(a, np.repeat(0, len(a)) + np.random.normal(0, 0.1, len(a)), s=10, c=c)\n",
    "    ax.set_ylabel(m)\n",
    "    return ax.set_title('Download Percentage w/ Jitter');"
   ]
  },
  {
   "cell_type": "markdown",
   "metadata": {},
   "source": [
    "### Non-white to white\n",
    "    H0: P(non-white) > P(White)\n",
    "    H1: P(non-White) < P(White)\n",
    "alpha = 0.01"
   ]
  },
  {
   "cell_type": "code",
   "execution_count": 10,
   "metadata": {},
   "outputs": [],
   "source": [
    "#Defining non-white and white\n",
    "not_white_df = Unsplash_df[Unsplash_df['main_color'] != 'white']\n",
    "white_df = Unsplash_df[Unsplash_df['main_color'] == 'white']"
   ]
  },
  {
   "cell_type": "code",
   "execution_count": null,
   "metadata": {},
   "outputs": [],
   "source": [
    "# jitter_plot(not_white_df['dl_percent'], m='Not White');\n",
    "# jitter_plot(white_df['dl_percent'], m='White', c='grey');"
   ]
  },
  {
   "cell_type": "code",
   "execution_count": 11,
   "metadata": {},
   "outputs": [
    {
     "name": "stdout",
     "output_type": "stream",
     "text": [
      "p-value for (not white) > (white): 0.992\n"
     ]
    },
    {
     "data": {
      "image/png": "[encoded data removed]",
      "text/plain": [
       "<Figure size 432x288 with 1 Axes>"
      ]
     },
     "metadata": {},
     "output_type": "display_data"
    }
   ],
   "source": [
    "p1=sns.kdeplot(not_white_df['dl_percent'], shade=True, color=\"green\", label='Not White')\n",
    "p1=sns.kdeplot(white_df['dl_percent'], shade=True, color=\"skyblue\", label='White')\n",
    "p1.legend()\n",
    "p1.set_title('Not White to White', fontsize=17)\n",
    "p1.set_ylabel('Density', fontsize=15)\n",
    "p1.set_xlabel('Download Percentage', fontsize=15);\n",
    "res = stats.mannwhitneyu(not_white_df['dl_percent'], white_df['dl_percent'], alternative=\"less\")\n",
    "print(\"p-value for (not white) > (white): {:2.3f}\".format(res.pvalue))\n",
    "\n",
    "# plt.savefig('plots/whitetest.png')"
   ]
  },
  {
   "cell_type": "markdown",
   "metadata": {},
   "source": [
    "###### Conclusion\n",
    "    Since our p-value is so high, we failed to reject the null hypothesis:\n",
    "    Non-white pictures are more engaging than white pictures"
   ]
  },
  {
   "cell_type": "markdown",
   "metadata": {},
   "source": [
    "### Non-black to black\n",
    "    H0: P(non-Black) > P(Black)\n",
    "    H1: P(non-Black) < P(Black)"
   ]
  },
  {
   "cell_type": "code",
   "execution_count": 12,
   "metadata": {},
   "outputs": [],
   "source": [
    "# Seperate colors\n",
    "not_black_df = Unsplash_df[Unsplash_df['main_color'] != 'black']\n",
    "black_df = Unsplash_df[Unsplash_df['main_color'] == 'black']"
   ]
  },
  {
   "cell_type": "code",
   "execution_count": null,
   "metadata": {
    "scrolled": false
   },
   "outputs": [],
   "source": [
    "# jitter_plot(not_black_df['dl_percent'], m='Not Black');\n",
    "# jitter_plot(black_df['dl_percent'], m='Black', c='black');"
   ]
  },
  {
   "cell_type": "code",
   "execution_count": 13,
   "metadata": {},
   "outputs": [
    {
     "name": "stdout",
     "output_type": "stream",
     "text": [
      "p-value for (not black) > (black): 0.860\n"
     ]
    },
    {
     "data": {
      "image/png": "[encoded data removed]",
      "text/plain": [
       "<Figure size 432x288 with 1 Axes>"
      ]
     },
     "metadata": {},
     "output_type": "display_data"
    }
   ],
   "source": [
    "p1=sns.kdeplot(not_black_df['dl_percent'], shade=True, color=\"green\", label='Not Black')\n",
    "p1=sns.kdeplot(black_df['dl_percent'], shade=True, color=\"black\", label='Black')\n",
    "p1.legend()\n",
    "p1.set_title('Not Black to Black', fontsize=17)\n",
    "p1.set_ylabel('Density', fontsize=15)\n",
    "p1.set_xlabel('Download Percentage', fontsize=15);\n",
    "res = stats.mannwhitneyu(not_black_df['dl_percent'], black_df['dl_percent'], alternative=\"less\")\n",
    "print(\"p-value for (not black) > (black): {:2.3f}\".format(res.pvalue))\n",
    "\n",
    "# plt.savefig('plots/blacktest.png')"
   ]
  },
  {
   "cell_type": "markdown",
   "metadata": {},
   "source": [
    "###### Conclusion\n",
    "    Since our p-value is so high, we failed to reject the null hypothesis:\n",
    "    Non-Black pictures are more engaging than Black pictures"
   ]
  },
  {
   "cell_type": "markdown",
   "metadata": {},
   "source": [
    "### Non-Yellow to Yellow\n",
    "    H0: P(non-Yellow) > P(Yellow)\n",
    "    H1: P(non-Yellow) < P(Yellow)"
   ]
  },
  {
   "cell_type": "code",
   "execution_count": 14,
   "metadata": {},
   "outputs": [],
   "source": [
    "# Seperate colors\n",
    "not_yell_df = Unsplash_df[Unsplash_df['main_color'] != 'yellow']\n",
    "yell_df = Unsplash_df[Unsplash_df['main_color'] == 'yellow']"
   ]
  },
  {
   "cell_type": "code",
   "execution_count": null,
   "metadata": {},
   "outputs": [],
   "source": [
    "# jitter_plot(not_yell_df['dl_percent'], m='Not Yellow');\n",
    "# jitter_plot(yell_df['dl_percent'], m='Yellow', c='yellow');"
   ]
  },
  {
   "cell_type": "code",
   "execution_count": 15,
   "metadata": {},
   "outputs": [
    {
     "name": "stdout",
     "output_type": "stream",
     "text": [
      "p-value for (not yellow) > (yellow): 0.002\n"
     ]
    },
    {
     "data": {
      "image/png": "[encoded data removed]",
      "text/plain": [
       "<Figure size 432x288 with 1 Axes>"
      ]
     },
     "metadata": {},
     "output_type": "display_data"
    }
   ],
   "source": [
    "p1=sns.kdeplot(not_yell_df['dl_percent'], shade=True, color=\"green\", label='Not Yellow')\n",
    "p1=sns.kdeplot(yell_df['dl_percent'], shade=True, color=\"yellow\", label='Yellow')\n",
    "p1.legend()\n",
    "p1.set_title('Not Yellow to Yellow', fontsize=17)\n",
    "p1.set_ylabel('Density', fontsize=15)\n",
    "p1.set_xlabel('Download Percentage', fontsize=15);\n",
    "res = stats.mannwhitneyu(not_yell_df['dl_percent'], yell_df['dl_percent'], alternative=\"less\")\n",
    "print(\"p-value for (not yellow) > (yellow): {:2.3f}\".format(res.pvalue))\n",
    "\n",
    "# plt.savefig('plots/yellowtest.png')"
   ]
  },
  {
   "cell_type": "markdown",
   "metadata": {},
   "source": [
    "###### Conclusion\n",
    "    Since our p-value is below our alpha (0.1), we reject the null hypothesis in place of the aleternative:\n",
    "    Non-yellow pictures are less engaging than yellow pictures"
   ]
  },
  {
   "cell_type": "markdown",
   "metadata": {},
   "source": [
    "### Non-Red to Red\n",
    "    H0: P(non-Red) > P(Red)\n",
    "    H1: P(non-Red) < P(Red)"
   ]
  },
  {
   "cell_type": "code",
   "execution_count": 16,
   "metadata": {},
   "outputs": [],
   "source": [
    "# Seperate colors\n",
    "not_red_df = Unsplash_df[Unsplash_df['main_color'] != 'red']\n",
    "red_df = Unsplash_df[Unsplash_df['main_color'] == 'red']"
   ]
  },
  {
   "cell_type": "code",
   "execution_count": null,
   "metadata": {},
   "outputs": [],
   "source": [
    "# jitter_plot(not_red_df['dl_percent'], m='Not Red');\n",
    "# jitter_plot(red_df['dl_percent'], m='Red', c='red');"
   ]
  },
  {
   "cell_type": "code",
   "execution_count": 17,
   "metadata": {},
   "outputs": [
    {
     "name": "stdout",
     "output_type": "stream",
     "text": [
      "p-value for (not red) > (red): 0.170\n"
     ]
    },
    {
     "data": {
      "image/png": "[encoded data removed]",
      "text/plain": [
       "<Figure size 432x288 with 1 Axes>"
      ]
     },
     "metadata": {},
     "output_type": "display_data"
    }
   ],
   "source": [
    "p1=sns.kdeplot(not_red_df['dl_percent'], shade=True, color=\"green\", label='Not Red')\n",
    "p1=sns.kdeplot(red_df['dl_percent'], shade=True, color=\"red\", label='Red')\n",
    "p1.legend()\n",
    "p1.set_title('Not Red to Red', fontsize=17)\n",
    "p1.set_ylabel('Density', fontsize=15)\n",
    "p1.set_xlabel('Download Percentage', fontsize=15);\n",
    "res = stats.mannwhitneyu(not_red_df['dl_percent'], red_df['dl_percent'], alternative=\"less\")\n",
    "print(\"p-value for (not red) > (red): {:2.3f}\".format(res.pvalue))\n",
    "\n",
    "# plt.savefig('plots/redtest.png')"
   ]
  },
  {
   "cell_type": "markdown",
   "metadata": {},
   "source": [
    "###### Conclusion\n",
    "    Since our p-value not below our alpha (0.5), we fail to reject the null hypothesis:\n",
    "    Non-red pictures are more engaging than red pictures"
   ]
  },
  {
   "cell_type": "markdown",
   "metadata": {},
   "source": [
    "### Non-Cyan to Cyan\n",
    "H0: P(non-Cyan) > P(Cyan) \\\n",
    "H1: P(non-Cyan) $\\le$ P(Cyan)"
   ]
  },
  {
   "cell_type": "code",
   "execution_count": 18,
   "metadata": {},
   "outputs": [],
   "source": [
    "# Seperate colors\n",
    "not_cyan_df = Unsplash_df[Unsplash_df['main_color'] != 'cyan']\n",
    "cyan_df = Unsplash_df[Unsplash_df['main_color'] == 'cyan']"
   ]
  },
  {
   "cell_type": "code",
   "execution_count": null,
   "metadata": {},
   "outputs": [],
   "source": [
    "# jitter_plot(not_cyan_df['dl_percent'], m='Not cyan');\n",
    "# jitter_plot(cyan_df['dl_percent'], m='cyan', c='cyan');"
   ]
  },
  {
   "cell_type": "code",
   "execution_count": 19,
   "metadata": {},
   "outputs": [
    {
     "name": "stdout",
     "output_type": "stream",
     "text": [
      "p-value for (not cyan) > (cyan): 0.004\n"
     ]
    },
    {
     "data": {
      "image/png": "[encoded data removed]",
      "text/plain": [
       "<Figure size 432x288 with 1 Axes>"
      ]
     },
     "metadata": {},
     "output_type": "display_data"
    }
   ],
   "source": [
    "p1=sns.kdeplot(not_cyan_df['dl_percent'], shade=True, color=\"green\", label='Not Cyan')\n",
    "p1=sns.kdeplot(cyan_df['dl_percent'], shade=True, color=\"cyan\", label='Cyan')\n",
    "p1.legend()\n",
    "p1.set_title('Not Cyan to Cyan', fontsize=17)\n",
    "p1.set_ylabel('Density', fontsize=15)\n",
    "p1.set_xlabel('Download Percentage', fontsize=15);\n",
    "res = stats.mannwhitneyu(not_cyan_df['dl_percent'], cyan_df['dl_percent'], alternative=\"less\")\n",
    "print(\"p-value for (not cyan) > (cyan): {:2.3f}\".format(res.pvalue))\n",
    "\n",
    "# plt.savefig('plots/cyantest.png')"
   ]
  },
  {
   "cell_type": "markdown",
   "metadata": {},
   "source": [
    "###### Conclusion\n",
    "    Since our p-value is below our alpha (0.5), we reject the null hypothesis:\n",
    "    Non-cyan pictures are less engaging than cyan pictures"
   ]
  },
  {
   "cell_type": "markdown",
   "metadata": {},
   "source": [
    "# Percentage"
   ]
  },
  {
   "cell_type": "code",
   "execution_count": 20,
   "metadata": {},
   "outputs": [
    {
     "data": {
      "text/plain": [
       "0.23261606158771983"
      ]
     },
     "execution_count": 20,
     "metadata": {},
     "output_type": "execute_result"
    }
   ],
   "source": [
    "white_df['dl_percent'].mean()"
   ]
  },
  {
   "cell_type": "code",
   "execution_count": 21,
   "metadata": {},
   "outputs": [
    {
     "data": {
      "text/plain": [
       "0.24221184208703214"
      ]
     },
     "execution_count": 21,
     "metadata": {},
     "output_type": "execute_result"
    }
   ],
   "source": [
    "not_white_df['dl_percent'].mean()"
   ]
  },
  {
   "cell_type": "markdown",
   "metadata": {},
   "source": [
    "# Holistic Multi Plots"
   ]
  },
  {
   "cell_type": "code",
   "execution_count": null,
   "metadata": {},
   "outputs": [],
   "source": []
  },
  {
   "cell_type": "code",
   "execution_count": null,
   "metadata": {
    "scrolled": false
   },
   "outputs": [],
   "source": [
    "plt.subplots(1, figsize=(12,10))\n",
    "sns.heatmap(Unsplash_df[['views', 'likes', 'downloads', 'user.total_photos', 'exif.aperture', 'dl_percent']].corr(), annot=True);"
   ]
  },
  {
   "cell_type": "code",
   "execution_count": null,
   "metadata": {
    "scrolled": false
   },
   "outputs": [],
   "source": [
    "pd.plotting.scatter_matrix(Unsplash_df[['views', 'likes', 'downloads', 'user.total_photos', 'exif.aperture', 'dl_percent']].applymap(lambda x:x*1), alpha=0.2, figsize=(12,12), diagonal='kde');"
   ]
  },
  {
   "cell_type": "markdown",
   "metadata": {},
   "source": [
    "# Mapping Lat and Long"
   ]
  },
  {
   "cell_type": "code",
   "execution_count": null,
   "metadata": {},
   "outputs": [],
   "source": [
    "map_df = full_df[['user.username', 'location.position.latitude', 'location.position.longitude']].dropna()\n",
    "map_df"
   ]
  },
  {
   "cell_type": "code",
   "execution_count": null,
   "metadata": {},
   "outputs": [],
   "source": [
    "m = folium.Map([46.196358, 6.473567], zoom_start=11)\n",
    "m"
   ]
  },
  {
   "cell_type": "code",
   "execution_count": null,
   "metadata": {},
   "outputs": [],
   "source": [
    "for index, row in map_df.iterrows():\n",
    "    folium.CircleMarker([row['location.position.latitude'], row['location.position.longitude']],\n",
    "                        radius=15,\n",
    "                        popup=row['user.username'],\n",
    "                        fill_color=\"#3db7e4\", # divvy color\n",
    "                       ).add_to(m)"
   ]
  },
  {
   "cell_type": "code",
   "execution_count": null,
   "metadata": {},
   "outputs": [],
   "source": [
    "stationArr = map_df[['location.position.latitude', 'location.position.longitude']].as_matrix()\n",
    "m.add_children(plugins.HeatMap(stationArr, radius=15))\n",
    "m"
   ]
  },
  {
   "cell_type": "code",
   "execution_count": null,
   "metadata": {},
   "outputs": [],
   "source": []
  }
 ],
 "metadata": {
  "kernelspec": {
   "display_name": "Python 3",
   "language": "python",
   "name": "python3"
  },
  "language_info": {
   "codemirror_mode": {
    "name": "ipython",
    "version": 3
   },
   "file_extension": ".py",
   "mimetype": "text/x-python",
   "name": "python",
   "nbconvert_exporter": "python",
   "pygments_lexer": "ipython3",
   "version": "3.7.3"
  }
 },
 "nbformat": 4,
 "nbformat_minor": 2
}
